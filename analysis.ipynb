{
 "cells": [
  {
   "cell_type": "code",
   "execution_count": 1,
   "metadata": {},
   "outputs": [],
   "source": [
    "import numpy as np\n",
    "import pandas as pd"
   ]
  },
  {
   "cell_type": "code",
   "execution_count": 2,
   "metadata": {},
   "outputs": [
    {
     "data": {
      "text/html": [
       "<div>\n",
       "<style scoped>\n",
       "    .dataframe tbody tr th:only-of-type {\n",
       "        vertical-align: middle;\n",
       "    }\n",
       "\n",
       "    .dataframe tbody tr th {\n",
       "        vertical-align: top;\n",
       "    }\n",
       "\n",
       "    .dataframe thead th {\n",
       "        text-align: right;\n",
       "    }\n",
       "</style>\n",
       "<table border=\"1\" class=\"dataframe\">\n",
       "  <thead>\n",
       "    <tr style=\"text-align: right;\">\n",
       "      <th></th>\n",
       "      <th>Unnamed: 0</th>\n",
       "      <th>CREATION_TIME</th>\n",
       "      <th>EDITION_TIME</th>\n",
       "      <th>NAME</th>\n",
       "      <th>STATUS</th>\n",
       "      <th>TAG</th>\n",
       "      <th>DATE</th>\n",
       "    </tr>\n",
       "  </thead>\n",
       "  <tbody>\n",
       "    <tr>\n",
       "      <th>0</th>\n",
       "      <td>0</td>\n",
       "      <td>2024-07-13T00:59:00.000Z</td>\n",
       "      <td>2024-07-13T00:59:00.000Z</td>\n",
       "      <td>Мб въебать тему кейсов в кейсклубе МФТИ</td>\n",
       "      <td>Goals</td>\n",
       "      <td>[]</td>\n",
       "      <td>NaN</td>\n",
       "    </tr>\n",
       "    <tr>\n",
       "      <th>1</th>\n",
       "      <td>1</td>\n",
       "      <td>2024-07-13T00:18:00.000Z</td>\n",
       "      <td>2024-07-13T00:18:00.000Z</td>\n",
       "      <td>Написать свой GPT2</td>\n",
       "      <td>Top Priority</td>\n",
       "      <td>[]</td>\n",
       "      <td>NaN</td>\n",
       "    </tr>\n",
       "    <tr>\n",
       "      <th>2</th>\n",
       "      <td>2</td>\n",
       "      <td>2024-07-13T00:17:00.000Z</td>\n",
       "      <td>2024-07-13T00:18:00.000Z</td>\n",
       "      <td>Расшарить  LoRa</td>\n",
       "      <td>Top Priority</td>\n",
       "      <td>[]</td>\n",
       "      <td>NaN</td>\n",
       "    </tr>\n",
       "    <tr>\n",
       "      <th>3</th>\n",
       "      <td>3</td>\n",
       "      <td>2024-07-13T00:16:00.000Z</td>\n",
       "      <td>2024-07-13T00:16:00.000Z</td>\n",
       "      <td>Рассмотреть семинар по суммаризации в NLP</td>\n",
       "      <td>Top Priority</td>\n",
       "      <td>[]</td>\n",
       "      <td>NaN</td>\n",
       "    </tr>\n",
       "    <tr>\n",
       "      <th>4</th>\n",
       "      <td>4</td>\n",
       "      <td>2024-07-12T13:27:00.000Z</td>\n",
       "      <td>2024-07-12T13:27:00.000Z</td>\n",
       "      <td>Посмотреть Нейчева про BERT</td>\n",
       "      <td>Top Priority</td>\n",
       "      <td>[]</td>\n",
       "      <td>NaN</td>\n",
       "    </tr>\n",
       "  </tbody>\n",
       "</table>\n",
       "</div>"
      ],
      "text/plain": [
       "   Unnamed: 0             CREATION_TIME              EDITION_TIME  \\\n",
       "0           0  2024-07-13T00:59:00.000Z  2024-07-13T00:59:00.000Z   \n",
       "1           1  2024-07-13T00:18:00.000Z  2024-07-13T00:18:00.000Z   \n",
       "2           2  2024-07-13T00:17:00.000Z  2024-07-13T00:18:00.000Z   \n",
       "3           3  2024-07-13T00:16:00.000Z  2024-07-13T00:16:00.000Z   \n",
       "4           4  2024-07-12T13:27:00.000Z  2024-07-12T13:27:00.000Z   \n",
       "\n",
       "                                         NAME        STATUS TAG DATE  \n",
       "0     Мб въебать тему кейсов в кейсклубе МФТИ         Goals  []  NaN  \n",
       "1                         Написать свой GPT2   Top Priority  []  NaN  \n",
       "2                             Расшарить  LoRa  Top Priority  []  NaN  \n",
       "3  Рассмотреть семинар по суммаризации в NLP   Top Priority  []  NaN  \n",
       "4                 Посмотреть Нейчева про BERT  Top Priority  []  NaN  "
      ]
     },
     "execution_count": 2,
     "metadata": {},
     "output_type": "execute_result"
    }
   ],
   "source": [
    "data = pd.read_csv('data.csv')\n",
    "data.head(5)"
   ]
  },
  {
   "cell_type": "code",
   "execution_count": 3,
   "metadata": {},
   "outputs": [
    {
     "data": {
      "text/plain": [
       "STATUS\n",
       "Succesfully accomplished                          1167\n",
       "Unaccomplished                                     142\n",
       "Goals                                               94\n",
       "It was a bad Idea                                   31\n",
       "Personal Development                                27\n",
       "To do with Sussy                                    26\n",
       "Achieved Projects                                   20\n",
       "Top Priority                                        19\n",
       "Second Priority (If there will be time for it)      19\n",
       "Someday                                             11\n",
       "Life beyond visible side                             4\n",
       "Contacts Network connections                         3\n",
       "Projects Unachieved                                  3\n",
       "Repetetive Tasks                                     2\n",
       "Name: count, dtype: int64"
      ]
     },
     "execution_count": 3,
     "metadata": {},
     "output_type": "execute_result"
    }
   ],
   "source": [
    "data.STATUS.value_counts()"
   ]
  },
  {
   "attachments": {},
   "cell_type": "markdown",
   "metadata": {},
   "source": [
    "# 1. Basic ideas with accomplished tasks names:"
   ]
  },
  {
   "cell_type": "code",
   "execution_count": 4,
   "metadata": {},
   "outputs": [],
   "source": [
    "sc_data = data[data['STATUS'] == 'Succesfully accomplished']\n",
    "ac_data = data[data['STATUS'] == 'Unaccomplished']\n",
    "ap_data = data[data['STATUS'] == 'Achieved Projects']"
   ]
  },
  {
   "attachments": {},
   "cell_type": "markdown",
   "metadata": {},
   "source": [
    "### Let's count number of word in average accomplished task"
   ]
  },
  {
   "cell_type": "code",
   "execution_count": 5,
   "metadata": {},
   "outputs": [
    {
     "data": {
      "text/plain": [
       "5              Посмотреть две лекции и семинар DLS по NLP\n",
       "16                    Прочитать attention is all you need\n",
       "20      Расшарить как работать с lstm (наконец то норм...\n",
       "21       Посмотреть рабочий семинар про MlFLow и Lightnin\n",
       "23              Разобраться что за a, b, y Fourier Bands \n",
       "                              ...                        \n",
       "1590                                    Зашарить в Химии \n",
       "1594                                  Сделать праки Максу\n",
       "1596                                         Оформить GTD\n",
       "1601                 Сделать домашку к репету по Русскому\n",
       "1602                                Сделать Жаутык - 2012\n",
       "Name: NAME, Length: 1167, dtype: object"
      ]
     },
     "execution_count": 5,
     "metadata": {},
     "output_type": "execute_result"
    }
   ],
   "source": [
    "sc_data.NAME"
   ]
  },
  {
   "cell_type": "code",
   "execution_count": 6,
   "metadata": {},
   "outputs": [
    {
     "data": {
      "text/plain": [
       "4.174698795180723"
      ]
     },
     "execution_count": 6,
     "metadata": {},
     "output_type": "execute_result"
    }
   ],
   "source": [
    "sc_data.NAME.str.split().str.len().mean()"
   ]
  },
  {
   "attachments": {},
   "cell_type": "markdown",
   "metadata": {},
   "source": [
    "It's an average length in terms of words"
   ]
  },
  {
   "attachments": {},
   "cell_type": "markdown",
   "metadata": {},
   "source": [
    "### Let's count number of characters (aside from space) in average accomplished task"
   ]
  },
  {
   "cell_type": "code",
   "execution_count": 7,
   "metadata": {},
   "outputs": [
    {
     "data": {
      "text/plain": [
       "25.879518072289155"
      ]
     },
     "execution_count": 7,
     "metadata": {},
     "output_type": "execute_result"
    }
   ],
   "source": [
    "sc_data.NAME.str.replace(' ', '').str.len().mean()"
   ]
  },
  {
   "attachments": {},
   "cell_type": "markdown",
   "metadata": {},
   "source": [
    "It's an average length in terms of characters"
   ]
  },
  {
   "attachments": {},
   "cell_type": "markdown",
   "metadata": {},
   "source": [
    "### Let's estimate an average length of the used words"
   ]
  },
  {
   "cell_type": "code",
   "execution_count": 8,
   "metadata": {},
   "outputs": [],
   "source": [
    "def avg_word_length(sentence):\n",
    "    words = sentence.split()\n",
    "    return (sum(len(str(word)) for word in words)/len(words))"
   ]
  },
  {
   "cell_type": "code",
   "execution_count": 48,
   "metadata": {},
   "outputs": [
    {
     "data": {
      "text/plain": [
       "6.678220772372443"
      ]
     },
     "execution_count": 48,
     "metadata": {},
     "output_type": "execute_result"
    }
   ],
   "source": [
    "sc_data.NAME.apply(lambda x: avg_word_length(str(x))).mean()"
   ]
  },
  {
   "cell_type": "code",
   "execution_count": 9,
   "metadata": {},
   "outputs": [
    {
     "name": "stderr",
     "output_type": "stream",
     "text": [
      "/tmp/ipykernel_8773/1669029692.py:1: SettingWithCopyWarning: \n",
      "A value is trying to be set on a copy of a slice from a DataFrame.\n",
      "Try using .loc[row_indexer,col_indexer] = value instead\n",
      "\n",
      "See the caveats in the documentation: https://pandas.pydata.org/pandas-docs/stable/user_guide/indexing.html#returning-a-view-versus-a-copy\n",
      "  sc_data['avg_word_length'] = sc_data.NAME.apply(lambda x: avg_word_length(str(x)))\n"
     ]
    }
   ],
   "source": [
    "sc_data['avg_word_length'] = sc_data.NAME.apply(lambda x: avg_word_length(str(x)))"
   ]
  },
  {
   "cell_type": "code",
   "execution_count": 10,
   "metadata": {},
   "outputs": [
    {
     "data": {
      "text/html": [
       "<div>\n",
       "<style scoped>\n",
       "    .dataframe tbody tr th:only-of-type {\n",
       "        vertical-align: middle;\n",
       "    }\n",
       "\n",
       "    .dataframe tbody tr th {\n",
       "        vertical-align: top;\n",
       "    }\n",
       "\n",
       "    .dataframe thead th {\n",
       "        text-align: right;\n",
       "    }\n",
       "</style>\n",
       "<table border=\"1\" class=\"dataframe\">\n",
       "  <thead>\n",
       "    <tr style=\"text-align: right;\">\n",
       "      <th></th>\n",
       "      <th>NAME</th>\n",
       "      <th>avg_word_length</th>\n",
       "    </tr>\n",
       "  </thead>\n",
       "  <tbody>\n",
       "    <tr>\n",
       "      <th>5</th>\n",
       "      <td>Посмотреть две лекции и семинар DLS по NLP</td>\n",
       "      <td>4.375000</td>\n",
       "    </tr>\n",
       "    <tr>\n",
       "      <th>16</th>\n",
       "      <td>Прочитать attention is all you need</td>\n",
       "      <td>5.000000</td>\n",
       "    </tr>\n",
       "    <tr>\n",
       "      <th>20</th>\n",
       "      <td>Расшарить как работать с lstm (наконец то норм...</td>\n",
       "      <td>5.777778</td>\n",
       "    </tr>\n",
       "    <tr>\n",
       "      <th>21</th>\n",
       "      <td>Посмотреть рабочий семинар про MlFLow и Lightnin</td>\n",
       "      <td>6.000000</td>\n",
       "    </tr>\n",
       "    <tr>\n",
       "      <th>23</th>\n",
       "      <td>Разобраться что за a, b, y Fourier Bands</td>\n",
       "      <td>4.125000</td>\n",
       "    </tr>\n",
       "    <tr>\n",
       "      <th>...</th>\n",
       "      <td>...</td>\n",
       "      <td>...</td>\n",
       "    </tr>\n",
       "    <tr>\n",
       "      <th>1590</th>\n",
       "      <td>Зашарить в Химии</td>\n",
       "      <td>4.666667</td>\n",
       "    </tr>\n",
       "    <tr>\n",
       "      <th>1594</th>\n",
       "      <td>Сделать праки Максу</td>\n",
       "      <td>5.666667</td>\n",
       "    </tr>\n",
       "    <tr>\n",
       "      <th>1596</th>\n",
       "      <td>Оформить GTD</td>\n",
       "      <td>5.500000</td>\n",
       "    </tr>\n",
       "    <tr>\n",
       "      <th>1601</th>\n",
       "      <td>Сделать домашку к репету по Русскому</td>\n",
       "      <td>5.166667</td>\n",
       "    </tr>\n",
       "    <tr>\n",
       "      <th>1602</th>\n",
       "      <td>Сделать Жаутык - 2012</td>\n",
       "      <td>4.500000</td>\n",
       "    </tr>\n",
       "  </tbody>\n",
       "</table>\n",
       "<p>1167 rows × 2 columns</p>\n",
       "</div>"
      ],
      "text/plain": [
       "                                                   NAME  avg_word_length\n",
       "5            Посмотреть две лекции и семинар DLS по NLP         4.375000\n",
       "16                  Прочитать attention is all you need         5.000000\n",
       "20    Расшарить как работать с lstm (наконец то норм...         5.777778\n",
       "21     Посмотреть рабочий семинар про MlFLow и Lightnin         6.000000\n",
       "23            Разобраться что за a, b, y Fourier Bands          4.125000\n",
       "...                                                 ...              ...\n",
       "1590                                  Зашарить в Химии          4.666667\n",
       "1594                                Сделать праки Максу         5.666667\n",
       "1596                                       Оформить GTD         5.500000\n",
       "1601               Сделать домашку к репету по Русскому         5.166667\n",
       "1602                              Сделать Жаутык - 2012         4.500000\n",
       "\n",
       "[1167 rows x 2 columns]"
      ]
     },
     "execution_count": 10,
     "metadata": {},
     "output_type": "execute_result"
    }
   ],
   "source": [
    "sc_data[['NAME', 'avg_word_length']]"
   ]
  },
  {
   "cell_type": "code",
   "execution_count": 11,
   "metadata": {},
   "outputs": [
    {
     "data": {
      "text/plain": [
       "6.678220772372443"
      ]
     },
     "execution_count": 11,
     "metadata": {},
     "output_type": "execute_result"
    }
   ],
   "source": [
    "sc_data.avg_word_length.mean()"
   ]
  },
  {
   "attachments": {},
   "cell_type": "markdown",
   "metadata": {},
   "source": [
    "# 2. Advanced names "
   ]
  },
  {
   "attachments": {},
   "cell_type": "markdown",
   "metadata": {},
   "source": [
    "### For accomplished tasks"
   ]
  },
  {
   "cell_type": "code",
   "execution_count": 57,
   "metadata": {},
   "outputs": [],
   "source": [
    "text = sc_data.NAME.astype(str)\n",
    "\n",
    "def clear_punctuation(string : str):\n",
    "    for punct in ['.', ':', ',', '!', '?', ';', '\\\\', '/', '-', ')', '(']:\n",
    "        string = string.replace(punct, ' ')\n",
    "    return string\n",
    "\n",
    "text = text.apply(lambda x: clear_punctuation(x))\n",
    "text = text.str.lower()\n",
    "text = ' '.join(text.to_list()).split() #dictionary of words\n"
   ]
  },
  {
   "cell_type": "code",
   "execution_count": 58,
   "metadata": {},
   "outputs": [],
   "source": [
    "def filter(text : str):\n",
    "    filtered = [word for word in text if len(word) > 3]\n",
    "    return filtered\n",
    "\n",
    "text = filter(text)"
   ]
  },
  {
   "cell_type": "code",
   "execution_count": 59,
   "metadata": {},
   "outputs": [
    {
     "data": {
      "text/plain": [
       "сделать        151\n",
       "написать        97\n",
       "решить          81\n",
       "неделю          72\n",
       "посмотреть      62\n",
       "              ... \n",
       "сдам             1\n",
       "монитор          1\n",
       "параметрику      1\n",
       "промерить        1\n",
       "2012             1\n",
       "Name: count, Length: 1688, dtype: int64"
      ]
     },
     "execution_count": 59,
     "metadata": {},
     "output_type": "execute_result"
    }
   ],
   "source": [
    "pd.Series(text).value_counts()"
   ]
  },
  {
   "attachments": {},
   "cell_type": "markdown",
   "metadata": {},
   "source": [
    "### For unaccomplished tasks"
   ]
  },
  {
   "cell_type": "code",
   "execution_count": 15,
   "metadata": {},
   "outputs": [],
   "source": [
    "ac_text = ac_data.NAME.astype(str)\n",
    "ac_text = ac_text.apply(lambda x: clear_punctuation(x))\n",
    "ac_text = ac_text.str.lower()\n",
    "ac_text = ' '.join(ac_text.to_list()).split()\n",
    "ac_text = filter(ac_text)"
   ]
  },
  {
   "cell_type": "code",
   "execution_count": 16,
   "metadata": {},
   "outputs": [
    {
     "data": {
      "text/plain": [
       "податься      14\n",
       "сделать       14\n",
       "посмотреть     7\n",
       "лекцию         7\n",
       "сходить        5\n",
       "              ..\n",
       "сервис         1\n",
       "пиксель        1\n",
       "починить       1\n",
       "диффурам       1\n",
       "admissions     1\n",
       "Name: count, Length: 392, dtype: int64"
      ]
     },
     "execution_count": 16,
     "metadata": {},
     "output_type": "execute_result"
    }
   ],
   "source": [
    "pd.Series(ac_text).value_counts()"
   ]
  },
  {
   "cell_type": "code",
   "execution_count": 17,
   "metadata": {},
   "outputs": [],
   "source": [
    "ap_text = ap_data.NAME.astype(str)\n",
    "ap_text = ap_text.apply(lambda x: clear_punctuation(x))\n",
    "ap_text = ap_text.str.lower()\n",
    "ap_text = ' '.join(ap_text.to_list()).split()\n",
    "ap_text = filter(ap_text)"
   ]
  },
  {
   "cell_type": "code",
   "execution_count": 18,
   "metadata": {},
   "outputs": [],
   "source": [
    "import os\n",
    "\n",
    "from os import path\n",
    "from wordcloud import WordCloud\n",
    "from PIL import Image\n",
    "import random"
   ]
  },
  {
   "cell_type": "code",
   "execution_count": 19,
   "metadata": {},
   "outputs": [],
   "source": [
    "def grey_color_func(word, font_size, position, orientation, random_state=None, **kwargs):\n",
    "    return \"hsl(0, 0%%, %d%%)\" % random.randint(60, 100)\n"
   ]
  },
  {
   "cell_type": "code",
   "execution_count": 20,
   "metadata": {},
   "outputs": [
    {
     "name": "stderr",
     "output_type": "stream",
     "text": [
      "/home/matthew/.local/lib/python3.10/site-packages/matplotlib/projections/__init__.py:63: UserWarning: Unable to import Axes3D. This may be due to multiple versions of Matplotlib being installed (e.g. as a system package and as a pip package). As a result, the 3D projection is not available.\n",
      "  warnings.warn(\"Unable to import Axes3D. This may be due to multiple versions of \"\n"
     ]
    }
   ],
   "source": [
    "mask = np.array(Image.open('coffee.jpg'))\n",
    "wordcloud = WordCloud(mask=mask).generate(' '.join(text))"
   ]
  },
  {
   "cell_type": "code",
   "execution_count": 21,
   "metadata": {},
   "outputs": [
    {
     "data": {
      "image/png": "[encoded data removed]",
      "text/plain": [
       "<Figure size 720x504 with 1 Axes>"
      ]
     },
     "metadata": {
      "needs_background": "light"
     },
     "output_type": "display_data"
    }
   ],
   "source": [
    "import matplotlib.pyplot as plt\n",
    "\n",
    "plt.figure(figsize=(10, 7))\n",
    "plt.imshow(wordcloud.recolor(color_func=grey_color_func, random_state=3),\n",
    "           interpolation=\"bilinear\")\n",
    "plt.axis(\"off\")\n",
    "plt.savefig('completed.png')"
   ]
  },
  {
   "cell_type": "code",
   "execution_count": 22,
   "metadata": {},
   "outputs": [],
   "source": [
    "mask = np.array(Image.open('hand.jpg'))\n",
    "wordcloud = WordCloud(mask=mask).generate(' '.join(text))"
   ]
  },
  {
   "cell_type": "code",
   "execution_count": 23,
   "metadata": {},
   "outputs": [
    {
     "data": {
      "image/png": "[encoded data removed]",
      "text/plain": [
       "<Figure size 720x504 with 1 Axes>"
      ]
     },
     "metadata": {
      "needs_background": "light"
     },
     "output_type": "display_data"
    }
   ],
   "source": [
    "mask = np.array(Image.open('hand.jpg'))\n",
    "wordcloud = WordCloud(mask=mask,\n",
    "               random_state=1).generate(' '.join(ac_text))\n",
    "\n",
    "plt.figure(figsize=(10, 7))\n",
    "plt.imshow(wordcloud.recolor(color_func=grey_color_func, random_state=3),\n",
    "           interpolation=\"bilinear\")\n",
    "plt.axis(\"off\")\n",
    "plt.savefig('uncompleted.png')"
   ]
  },
  {
   "attachments": {},
   "cell_type": "markdown",
   "metadata": {},
   "source": [
    "https://github.com/amueller/word_cloud?tab=readme-ov-file"
   ]
  },
  {
   "attachments": {},
   "cell_type": "markdown",
   "metadata": {},
   "source": [
    "### Let's add an stop words clear feature "
   ]
  },
  {
   "cell_type": "code",
   "execution_count": 24,
   "metadata": {},
   "outputs": [
    {
     "data": {
      "text/plain": [
       "сделать        151\n",
       "написать        97\n",
       "решить          81\n",
       "неделю          72\n",
       "посмотреть      62\n",
       "              ... \n",
       "сдам             1\n",
       "монитор          1\n",
       "параметрику      1\n",
       "промерить        1\n",
       "2012             1\n",
       "Name: count, Length: 1668, dtype: int64"
      ]
     },
     "execution_count": 24,
     "metadata": {},
     "output_type": "execute_result"
    }
   ],
   "source": [
    "from nltk.corpus import stopwords\n",
    "import nltk\n",
    "\n",
    "# Create a set of stop words \n",
    "stop_words = set(stopwords.words('russian')) \n",
    "\n",
    "def remove_stop_words(sentence : list, filter_array=stop_words): \n",
    "  filtered_words = [word for word in sentence if word not in filter_array] \n",
    "  \n",
    "  return filtered_words\n",
    "\n",
    "pd.Series(remove_stop_words(text)).value_counts()"
   ]
  },
  {
   "cell_type": "code",
   "execution_count": 25,
   "metadata": {},
   "outputs": [
    {
     "data": {
      "text/plain": [
       "неделю      72\n",
       "домашку     32\n",
       "лекцию      28\n",
       "статью      25\n",
       "заботать    20\n",
       "            ..\n",
       "подобие      1\n",
       "комнаты      1\n",
       "одежду       1\n",
       "грязную      1\n",
       "2012         1\n",
       "Name: count, Length: 1677, dtype: int64"
      ]
     },
     "execution_count": 25,
     "metadata": {},
     "output_type": "execute_result"
    }
   ],
   "source": [
    "exclude_words = ['сделать', 'написать', 'решить', 'посмотреть', 'разобраться', 'прочитать', 'сходить', 'повторить', 'подготовиться', 'оформить', 'купить']\n",
    "\n",
    "pd.Series(remove_stop_words(text, exclude_words)).value_counts()"
   ]
  },
  {
   "attachments": {},
   "cell_type": "markdown",
   "metadata": {},
   "source": [
    "### This can be performed further, as we can mark all verbs and not count them "
   ]
  },
  {
   "cell_type": "code",
   "execution_count": 26,
   "metadata": {},
   "outputs": [
    {
     "name": "stdout",
     "output_type": "stream",
     "text": [
      "[('ночь', 'JJ'), ('красива', 'NNP'), ('и', 'NNP'), ('мила', 'NNP'), (',', ','), ('очень', 'NNP'), ('спать', 'NNP'), ('хочет', 'NNP'), ('она', 'NN')]\n"
     ]
    }
   ],
   "source": [
    "sample_text = '''ночь красива и мила, очень спать хочет она''' \n",
    "from nltk.tokenize import word_tokenize\n",
    "words = word_tokenize(sample_text)\n",
    "\n",
    "print(nltk.pos_tag(words))"
   ]
  },
  {
   "cell_type": "code",
   "execution_count": 27,
   "metadata": {},
   "outputs": [],
   "source": [
    "import pymorphy2\n",
    "morph = pymorphy2.MorphAnalyzer()"
   ]
  },
  {
   "cell_type": "code",
   "execution_count": 28,
   "metadata": {},
   "outputs": [
    {
     "data": {
      "text/plain": [
       "неделю         72\n",
       "домашку        32\n",
       "лекцию         28\n",
       "статью         25\n",
       "заботать       20\n",
       "               ..\n",
       "финальную       1\n",
       "диффурампро     1\n",
       "параграф        1\n",
       "хуже            1\n",
       "2012            1\n",
       "Name: count, Length: 1429, dtype: int64"
      ]
     },
     "execution_count": 28,
     "metadata": {},
     "output_type": "execute_result"
    }
   ],
   "source": [
    "def filter_verbs(text: list):\n",
    "    filtered = [word for word in text if morph.parse(word)[0].tag.POS != 'INFN' and morph.parse(word)[0].tag.POS != 'VERB']\n",
    "    return filtered\n",
    "\n",
    "pd.Series(filter_verbs(text)).value_counts()\n",
    "#'INFN' or 'VERB'"
   ]
  },
  {
   "cell_type": "code",
   "execution_count": 29,
   "metadata": {},
   "outputs": [
    {
     "data": {
      "text/plain": [
       "лекцию        7\n",
       "физики        4\n",
       "https         3\n",
       "лекции        3\n",
       "домашку       3\n",
       "             ..\n",
       "isti          1\n",
       "углом         1\n",
       "кареткой      1\n",
       "fisting       1\n",
       "admissions    1\n",
       "Name: count, Length: 322, dtype: int64"
      ]
     },
     "execution_count": 29,
     "metadata": {},
     "output_type": "execute_result"
    }
   ],
   "source": [
    "pd.Series(filter_verbs(ac_text)).value_counts()"
   ]
  },
  {
   "attachments": {},
   "cell_type": "markdown",
   "metadata": {},
   "source": [
    "### It's can be seen, that simiar words are countend separately, thus I will put all words into normal form "
   ]
  },
  {
   "cell_type": "code",
   "execution_count": 30,
   "metadata": {},
   "outputs": [],
   "source": [
    "def normalize_words(text: list):\n",
    "    filtered = [morph.parse(word)[0].normal_form for word in text if morph.parse(word)[0].tag.POS != 'INFN' and morph.parse(word)[0].tag.POS != 'VERB']\n",
    "    return filtered"
   ]
  },
  {
   "cell_type": "code",
   "execution_count": 31,
   "metadata": {},
   "outputs": [
    {
     "data": {
      "text/plain": [
       "неделя               81\n",
       "билет                46\n",
       "лекция               44\n",
       "статья               42\n",
       "домашка              37\n",
       "                     ..\n",
       "мышка                 1\n",
       "фоллович              1\n",
       "kotor                 1\n",
       "работоспособность     1\n",
       "2012                  1\n",
       "Name: count, Length: 1188, dtype: int64"
      ]
     },
     "execution_count": 31,
     "metadata": {},
     "output_type": "execute_result"
    }
   ],
   "source": [
    "pd.Series(normalize_words(filter_verbs(text))).value_counts()"
   ]
  },
  {
   "cell_type": "code",
   "execution_count": 32,
   "metadata": {},
   "outputs": [
    {
     "data": {
      "text/plain": [
       "лекция        12\n",
       "физика         8\n",
       "задача         4\n",
       "горизонт       4\n",
       "курс           4\n",
       "              ..\n",
       "бумажка        1\n",
       "zurich         1\n",
       "стажировка     1\n",
       "munich         1\n",
       "admissions     1\n",
       "Name: count, Length: 295, dtype: int64"
      ]
     },
     "execution_count": 32,
     "metadata": {},
     "output_type": "execute_result"
    }
   ],
   "source": [
    "pd.Series(normalize_words(filter_verbs(ac_text))).value_counts()"
   ]
  },
  {
   "attachments": {},
   "cell_type": "markdown",
   "metadata": {},
   "source": [
    "# 3. Dates and times analysis"
   ]
  },
  {
   "attachments": {},
   "cell_type": "markdown",
   "metadata": {},
   "source": [
    "### Chart of activities against month"
   ]
  },
  {
   "cell_type": "code",
   "execution_count": 33,
   "metadata": {},
   "outputs": [],
   "source": [
    "from datetime import datetime, date\n",
    "\n",
    "def format_datatime(string : str):\n",
    "    return string[:-5].replace('T', '-')\n",
    "    \n",
    "\n",
    "data.CREATION_TIME = data.CREATION_TIME.apply(lambda x: format_datatime(x))\n",
    "data.EDITION_TIME = data.EDITION_TIME.apply(lambda x: format_datatime(x))"
   ]
  },
  {
   "cell_type": "code",
   "execution_count": 34,
   "metadata": {},
   "outputs": [
    {
     "name": "stdout",
     "output_type": "stream",
     "text": [
      "7\n"
     ]
    }
   ],
   "source": [
    "print(datetime.strptime(str(data.iloc[0].EDITION_TIME), '%Y-%m-%d-%H:%M:%S').month)"
   ]
  },
  {
   "cell_type": "code",
   "execution_count": 35,
   "metadata": {},
   "outputs": [],
   "source": [
    "creation_months = np.zeros(12)\n",
    "completion_months = np.zeros(12)\n",
    "\n",
    "creation_times = []\n",
    "completion_times = []\n",
    "\n",
    "\n",
    "for date in data[data['STATUS'] == 'Succesfully accomplished'].CREATION_TIME:\n",
    "    creation_months[datetime.strptime(date, '%Y-%m-%d-%H:%M:%S').month - 1] += 1\n",
    "    creation_times.append(datetime.strptime(date, '%Y-%m-%d-%H:%M:%S'))\n",
    "\n",
    "for date in data[data['STATUS'] == 'Succesfully accomplished'].EDITION_TIME:\n",
    "    completion_months[datetime.strptime(date, '%Y-%m-%d-%H:%M:%S').month - 1] += 1\n",
    "    completion_times.append(datetime.strptime(date, '%Y-%m-%d-%H:%M:%S'))"
   ]
  },
  {
   "cell_type": "code",
   "execution_count": 36,
   "metadata": {},
   "outputs": [],
   "source": [
    "task_time = np.array([i.total_seconds() for i in  (np.array(completion_times) - np.array(creation_times))])"
   ]
  },
  {
   "cell_type": "code",
   "execution_count": 37,
   "metadata": {},
   "outputs": [
    {
     "data": {
      "text/plain": [
       "1120680.9254498715"
      ]
     },
     "execution_count": 37,
     "metadata": {},
     "output_type": "execute_result"
    }
   ],
   "source": [
    "task_time.mean()"
   ]
  },
  {
   "cell_type": "code",
   "execution_count": 38,
   "metadata": {},
   "outputs": [
    {
     "data": {
      "image/png": "[encoded data removed]",
      "text/plain": [
       "<Figure size 504x360 with 1 Axes>"
      ]
     },
     "metadata": {
      "needs_background": "dark"
     },
     "output_type": "display_data"
    }
   ],
   "source": [
    "plt.figure(figsize=(7, 5))\n",
    "plt.style.use('dark_background')\n",
    "plt.bar(x=np.arange(1, 13), height=creation_months, color='white', label='начато')\n",
    "plt.bar(x=np.arange(1, 13), height=completion_months, color='lightgray', label='сделано', alpha=0.5)\n",
    "plt.xlabel('Месяц',fontsize=24)\n",
    "plt.xticks(np.arange(1, 13)[::2], fontsize=14)\n",
    "plt.ylabel('Кол-во задач',fontsize=24)\n",
    "plt.yticks(np.arange(0, 151, 30), fontsize=14)\n",
    "plt.legend(fontsize=14)\n",
    "plt.tight_layout()\n",
    "plt.savefig('months_tasks.jpg')"
   ]
  },
  {
   "cell_type": "code",
   "execution_count": 39,
   "metadata": {},
   "outputs": [],
   "source": [
    "ac_creation_times = []\n",
    "fail_times = []\n",
    "\n",
    "\n",
    "for date in data[data['STATUS'] == 'Unaccomplished'].CREATION_TIME:\n",
    "    ac_creation_times.append(datetime.strptime(date, '%Y-%m-%d-%H:%M:%S'))\n",
    "\n",
    "for date in data[data['STATUS'] == 'Unaccomplished'].EDITION_TIME:\n",
    "    fail_times.append(datetime.strptime(date, '%Y-%m-%d-%H:%M:%S'))"
   ]
  },
  {
   "cell_type": "code",
   "execution_count": 40,
   "metadata": {},
   "outputs": [
    {
     "data": {
      "text/plain": [
       "4967627.3239436615"
      ]
     },
     "execution_count": 40,
     "metadata": {},
     "output_type": "execute_result"
    }
   ],
   "source": [
    "task_time = np.array([i.total_seconds() for i in  (np.array(fail_times) - np.array(ac_creation_times))])\n",
    "task_time.mean()"
   ]
  },
  {
   "attachments": {},
   "cell_type": "markdown",
   "metadata": {},
   "source": [
    "### Chart of activities in respect to week number"
   ]
  },
  {
   "cell_type": "code",
   "execution_count": 41,
   "metadata": {},
   "outputs": [
    {
     "data": {
      "text/plain": [
       "'2024-07-13-00:16:00'"
      ]
     },
     "execution_count": 41,
     "metadata": {},
     "output_type": "execute_result"
    }
   ],
   "source": [
    "format_datatime(sc_data.EDITION_TIME.iloc[0])"
   ]
  },
  {
   "cell_type": "code",
   "execution_count": 42,
   "metadata": {},
   "outputs": [
    {
     "data": {
      "text/plain": [
       "datetime.IsoCalendarDate(year=2024, week=28, weekday=6)"
      ]
     },
     "execution_count": 42,
     "metadata": {},
     "output_type": "execute_result"
    }
   ],
   "source": [
    "(datetime.strptime(format_datatime(sc_data.EDITION_TIME.iloc[0]), '%Y-%m-%d-%H:%M:%S')).isocalendar()"
   ]
  },
  {
   "cell_type": "code",
   "execution_count": 43,
   "metadata": {},
   "outputs": [
    {
     "name": "stderr",
     "output_type": "stream",
     "text": [
      "/tmp/ipykernel_8773/2303029198.py:1: SettingWithCopyWarning: \n",
      "A value is trying to be set on a copy of a slice from a DataFrame.\n",
      "Try using .loc[row_indexer,col_indexer] = value instead\n",
      "\n",
      "See the caveats in the documentation: https://pandas.pydata.org/pandas-docs/stable/user_guide/indexing.html#returning-a-view-versus-a-copy\n",
      "  sc_data['year'] = sc_data.EDITION_TIME.apply(lambda x: datetime.strptime(format_datatime(x), '%Y-%m-%d-%H:%M:%S').isocalendar().year)\n",
      "/tmp/ipykernel_8773/2303029198.py:2: SettingWithCopyWarning: \n",
      "A value is trying to be set on a copy of a slice from a DataFrame.\n",
      "Try using .loc[row_indexer,col_indexer] = value instead\n",
      "\n",
      "See the caveats in the documentation: https://pandas.pydata.org/pandas-docs/stable/user_guide/indexing.html#returning-a-view-versus-a-copy\n",
      "  sc_data['week'] = sc_data.EDITION_TIME.apply(lambda x: datetime.strptime(format_datatime(x), '%Y-%m-%d-%H:%M:%S').isocalendar().week)\n",
      "/tmp/ipykernel_8773/2303029198.py:3: SettingWithCopyWarning: \n",
      "A value is trying to be set on a copy of a slice from a DataFrame.\n",
      "Try using .loc[row_indexer,col_indexer] = value instead\n",
      "\n",
      "See the caveats in the documentation: https://pandas.pydata.org/pandas-docs/stable/user_guide/indexing.html#returning-a-view-versus-a-copy\n",
      "  sc_data['weekday'] = sc_data.EDITION_TIME.apply(lambda x: datetime.strptime(format_datatime(x), '%Y-%m-%d-%H:%M:%S').isocalendar().weekday)\n"
     ]
    }
   ],
   "source": [
    "sc_data['year'] = sc_data.EDITION_TIME.apply(lambda x: datetime.strptime(format_datatime(x), '%Y-%m-%d-%H:%M:%S').isocalendar().year)\n",
    "sc_data['week'] = sc_data.EDITION_TIME.apply(lambda x: datetime.strptime(format_datatime(x), '%Y-%m-%d-%H:%M:%S').isocalendar().week)\n",
    "sc_data['weekday'] = sc_data.EDITION_TIME.apply(lambda x: datetime.strptime(format_datatime(x), '%Y-%m-%d-%H:%M:%S').isocalendar().weekday)"
   ]
  },
  {
   "cell_type": "code",
   "execution_count": 44,
   "metadata": {},
   "outputs": [
    {
     "data": {
      "text/html": [
       "<div>\n",
       "<style scoped>\n",
       "    .dataframe tbody tr th:only-of-type {\n",
       "        vertical-align: middle;\n",
       "    }\n",
       "\n",
       "    .dataframe tbody tr th {\n",
       "        vertical-align: top;\n",
       "    }\n",
       "\n",
       "    .dataframe thead th {\n",
       "        text-align: right;\n",
       "    }\n",
       "</style>\n",
       "<table border=\"1\" class=\"dataframe\">\n",
       "  <thead>\n",
       "    <tr style=\"text-align: right;\">\n",
       "      <th></th>\n",
       "      <th>Unnamed: 0</th>\n",
       "      <th>CREATION_TIME</th>\n",
       "      <th>EDITION_TIME</th>\n",
       "      <th>NAME</th>\n",
       "      <th>STATUS</th>\n",
       "      <th>TAG</th>\n",
       "      <th>DATE</th>\n",
       "      <th>avg_word_length</th>\n",
       "      <th>year</th>\n",
       "      <th>week</th>\n",
       "      <th>weekday</th>\n",
       "    </tr>\n",
       "  </thead>\n",
       "  <tbody>\n",
       "    <tr>\n",
       "      <th>5</th>\n",
       "      <td>5</td>\n",
       "      <td>2024-07-12T13:26:00.000Z</td>\n",
       "      <td>2024-07-13T00:16:00.000Z</td>\n",
       "      <td>Посмотреть две лекции и семинар DLS по NLP</td>\n",
       "      <td>Succesfully accomplished</td>\n",
       "      <td>[]</td>\n",
       "      <td>NaN</td>\n",
       "      <td>4.375000</td>\n",
       "      <td>2024</td>\n",
       "      <td>28</td>\n",
       "      <td>6</td>\n",
       "    </tr>\n",
       "    <tr>\n",
       "      <th>16</th>\n",
       "      <td>16</td>\n",
       "      <td>2024-07-10T20:27:00.000Z</td>\n",
       "      <td>2024-07-12T00:13:00.000Z</td>\n",
       "      <td>Прочитать attention is all you need</td>\n",
       "      <td>Succesfully accomplished</td>\n",
       "      <td>[]</td>\n",
       "      <td>NaN</td>\n",
       "      <td>5.000000</td>\n",
       "      <td>2024</td>\n",
       "      <td>28</td>\n",
       "      <td>5</td>\n",
       "    </tr>\n",
       "    <tr>\n",
       "      <th>20</th>\n",
       "      <td>20</td>\n",
       "      <td>2024-07-09T16:11:00.000Z</td>\n",
       "      <td>2024-07-11T16:30:00.000Z</td>\n",
       "      <td>Расшарить как работать с lstm (наконец то норм...</td>\n",
       "      <td>Succesfully accomplished</td>\n",
       "      <td>[]</td>\n",
       "      <td>NaN</td>\n",
       "      <td>5.777778</td>\n",
       "      <td>2024</td>\n",
       "      <td>28</td>\n",
       "      <td>4</td>\n",
       "    </tr>\n",
       "    <tr>\n",
       "      <th>21</th>\n",
       "      <td>21</td>\n",
       "      <td>2024-07-08T23:59:00.000Z</td>\n",
       "      <td>2024-07-09T16:33:00.000Z</td>\n",
       "      <td>Посмотреть рабочий семинар про MlFLow и Lightnin</td>\n",
       "      <td>Succesfully accomplished</td>\n",
       "      <td>[]</td>\n",
       "      <td>NaN</td>\n",
       "      <td>6.000000</td>\n",
       "      <td>2024</td>\n",
       "      <td>28</td>\n",
       "      <td>2</td>\n",
       "    </tr>\n",
       "    <tr>\n",
       "      <th>23</th>\n",
       "      <td>23</td>\n",
       "      <td>2024-07-08T17:03:00.000Z</td>\n",
       "      <td>2024-07-08T21:34:00.000Z</td>\n",
       "      <td>Разобраться что за a, b, y Fourier Bands</td>\n",
       "      <td>Succesfully accomplished</td>\n",
       "      <td>[]</td>\n",
       "      <td>NaN</td>\n",
       "      <td>4.125000</td>\n",
       "      <td>2024</td>\n",
       "      <td>28</td>\n",
       "      <td>1</td>\n",
       "    </tr>\n",
       "    <tr>\n",
       "      <th>...</th>\n",
       "      <td>...</td>\n",
       "      <td>...</td>\n",
       "      <td>...</td>\n",
       "      <td>...</td>\n",
       "      <td>...</td>\n",
       "      <td>...</td>\n",
       "      <td>...</td>\n",
       "      <td>...</td>\n",
       "      <td>...</td>\n",
       "      <td>...</td>\n",
       "      <td>...</td>\n",
       "    </tr>\n",
       "    <tr>\n",
       "      <th>1590</th>\n",
       "      <td>1590</td>\n",
       "      <td>2021-10-28T13:58:00.000Z</td>\n",
       "      <td>2023-01-18T10:03:00.000Z</td>\n",
       "      <td>Зашарить в Химии</td>\n",
       "      <td>Succesfully accomplished</td>\n",
       "      <td>[{'id': '32ba73e2-2301-4c4c-8dcd-c89d24298c55'...</td>\n",
       "      <td>NaN</td>\n",
       "      <td>4.666667</td>\n",
       "      <td>2023</td>\n",
       "      <td>3</td>\n",
       "      <td>3</td>\n",
       "    </tr>\n",
       "    <tr>\n",
       "      <th>1594</th>\n",
       "      <td>1594</td>\n",
       "      <td>2021-10-28T13:55:00.000Z</td>\n",
       "      <td>2021-11-10T19:18:00.000Z</td>\n",
       "      <td>Сделать праки Максу</td>\n",
       "      <td>Succesfully accomplished</td>\n",
       "      <td>[{'id': '32ba73e2-2301-4c4c-8dcd-c89d24298c55'...</td>\n",
       "      <td>NaN</td>\n",
       "      <td>5.666667</td>\n",
       "      <td>2021</td>\n",
       "      <td>45</td>\n",
       "      <td>3</td>\n",
       "    </tr>\n",
       "    <tr>\n",
       "      <th>1596</th>\n",
       "      <td>1596</td>\n",
       "      <td>2021-10-28T13:51:00.000Z</td>\n",
       "      <td>2021-12-09T18:04:00.000Z</td>\n",
       "      <td>Оформить GTD</td>\n",
       "      <td>Succesfully accomplished</td>\n",
       "      <td>[]</td>\n",
       "      <td>NaN</td>\n",
       "      <td>5.500000</td>\n",
       "      <td>2021</td>\n",
       "      <td>49</td>\n",
       "      <td>4</td>\n",
       "    </tr>\n",
       "    <tr>\n",
       "      <th>1601</th>\n",
       "      <td>1601</td>\n",
       "      <td>2021-10-28T11:44:00.000Z</td>\n",
       "      <td>2022-03-31T10:17:00.000Z</td>\n",
       "      <td>Сделать домашку к репету по Русскому</td>\n",
       "      <td>Succesfully accomplished</td>\n",
       "      <td>[{'id': '32ba73e2-2301-4c4c-8dcd-c89d24298c55'...</td>\n",
       "      <td>NaN</td>\n",
       "      <td>5.166667</td>\n",
       "      <td>2022</td>\n",
       "      <td>13</td>\n",
       "      <td>4</td>\n",
       "    </tr>\n",
       "    <tr>\n",
       "      <th>1602</th>\n",
       "      <td>1602</td>\n",
       "      <td>2021-10-28T11:44:00.000Z</td>\n",
       "      <td>2022-03-31T10:17:00.000Z</td>\n",
       "      <td>Сделать Жаутык - 2012</td>\n",
       "      <td>Succesfully accomplished</td>\n",
       "      <td>[{'id': '32ba73e2-2301-4c4c-8dcd-c89d24298c55'...</td>\n",
       "      <td>NaN</td>\n",
       "      <td>4.500000</td>\n",
       "      <td>2022</td>\n",
       "      <td>13</td>\n",
       "      <td>4</td>\n",
       "    </tr>\n",
       "  </tbody>\n",
       "</table>\n",
       "<p>1167 rows × 11 columns</p>\n",
       "</div>"
      ],
      "text/plain": [
       "      Unnamed: 0             CREATION_TIME              EDITION_TIME  \\\n",
       "5              5  2024-07-12T13:26:00.000Z  2024-07-13T00:16:00.000Z   \n",
       "16            16  2024-07-10T20:27:00.000Z  2024-07-12T00:13:00.000Z   \n",
       "20            20  2024-07-09T16:11:00.000Z  2024-07-11T16:30:00.000Z   \n",
       "21            21  2024-07-08T23:59:00.000Z  2024-07-09T16:33:00.000Z   \n",
       "23            23  2024-07-08T17:03:00.000Z  2024-07-08T21:34:00.000Z   \n",
       "...          ...                       ...                       ...   \n",
       "1590        1590  2021-10-28T13:58:00.000Z  2023-01-18T10:03:00.000Z   \n",
       "1594        1594  2021-10-28T13:55:00.000Z  2021-11-10T19:18:00.000Z   \n",
       "1596        1596  2021-10-28T13:51:00.000Z  2021-12-09T18:04:00.000Z   \n",
       "1601        1601  2021-10-28T11:44:00.000Z  2022-03-31T10:17:00.000Z   \n",
       "1602        1602  2021-10-28T11:44:00.000Z  2022-03-31T10:17:00.000Z   \n",
       "\n",
       "                                                   NAME  \\\n",
       "5            Посмотреть две лекции и семинар DLS по NLP   \n",
       "16                  Прочитать attention is all you need   \n",
       "20    Расшарить как работать с lstm (наконец то норм...   \n",
       "21     Посмотреть рабочий семинар про MlFLow и Lightnin   \n",
       "23            Разобраться что за a, b, y Fourier Bands    \n",
       "...                                                 ...   \n",
       "1590                                  Зашарить в Химии    \n",
       "1594                                Сделать праки Максу   \n",
       "1596                                       Оформить GTD   \n",
       "1601               Сделать домашку к репету по Русскому   \n",
       "1602                              Сделать Жаутык - 2012   \n",
       "\n",
       "                        STATUS  \\\n",
       "5     Succesfully accomplished   \n",
       "16    Succesfully accomplished   \n",
       "20    Succesfully accomplished   \n",
       "21    Succesfully accomplished   \n",
       "23    Succesfully accomplished   \n",
       "...                        ...   \n",
       "1590  Succesfully accomplished   \n",
       "1594  Succesfully accomplished   \n",
       "1596  Succesfully accomplished   \n",
       "1601  Succesfully accomplished   \n",
       "1602  Succesfully accomplished   \n",
       "\n",
       "                                                    TAG DATE  avg_word_length  \\\n",
       "5                                                    []  NaN         4.375000   \n",
       "16                                                   []  NaN         5.000000   \n",
       "20                                                   []  NaN         5.777778   \n",
       "21                                                   []  NaN         6.000000   \n",
       "23                                                   []  NaN         4.125000   \n",
       "...                                                 ...  ...              ...   \n",
       "1590  [{'id': '32ba73e2-2301-4c4c-8dcd-c89d24298c55'...  NaN         4.666667   \n",
       "1594  [{'id': '32ba73e2-2301-4c4c-8dcd-c89d24298c55'...  NaN         5.666667   \n",
       "1596                                                 []  NaN         5.500000   \n",
       "1601  [{'id': '32ba73e2-2301-4c4c-8dcd-c89d24298c55'...  NaN         5.166667   \n",
       "1602  [{'id': '32ba73e2-2301-4c4c-8dcd-c89d24298c55'...  NaN         4.500000   \n",
       "\n",
       "      year  week  weekday  \n",
       "5     2024    28        6  \n",
       "16    2024    28        5  \n",
       "20    2024    28        4  \n",
       "21    2024    28        2  \n",
       "23    2024    28        1  \n",
       "...    ...   ...      ...  \n",
       "1590  2023     3        3  \n",
       "1594  2021    45        3  \n",
       "1596  2021    49        4  \n",
       "1601  2022    13        4  \n",
       "1602  2022    13        4  \n",
       "\n",
       "[1167 rows x 11 columns]"
      ]
     },
     "execution_count": 44,
     "metadata": {},
     "output_type": "execute_result"
    }
   ],
   "source": [
    "sc_data"
   ]
  },
  {
   "cell_type": "code",
   "execution_count": 46,
   "metadata": {},
   "outputs": [
    {
     "name": "stderr",
     "output_type": "stream",
     "text": [
      "/tmp/ipykernel_8773/2280881171.py:7: UserWarning: Boolean Series key will be reindexed to match DataFrame index.\n",
      "  activity[day][week] += len(data_for_map[data_for_map['week'] == week][data_for_map['weekday'] == day + 1])\n",
      "/tmp/ipykernel_8773/2280881171.py:7: UserWarning: Boolean Series key will be reindexed to match DataFrame index.\n",
      "  activity[day][week] += len(data_for_map[data_for_map['week'] == week][data_for_map['weekday'] == day + 1])\n",
      "/tmp/ipykernel_8773/2280881171.py:7: UserWarning: Boolean Series key will be reindexed to match DataFrame index.\n",
      "  activity[day][week] += len(data_for_map[data_for_map['week'] == week][data_for_map['weekday'] == day + 1])\n",
      "/tmp/ipykernel_8773/2280881171.py:7: UserWarning: Boolean Series key will be reindexed to match DataFrame index.\n",
      "  activity[day][week] += len(data_for_map[data_for_map['week'] == week][data_for_map['weekday'] == day + 1])\n",
      "/tmp/ipykernel_8773/2280881171.py:7: UserWarning: Boolean Series key will be reindexed to match DataFrame index.\n",
      "  activity[day][week] += len(data_for_map[data_for_map['week'] == week][data_for_map['weekday'] == day + 1])\n",
      "/tmp/ipykernel_8773/2280881171.py:7: UserWarning: Boolean Series key will be reindexed to match DataFrame index.\n",
      "  activity[day][week] += len(data_for_map[data_for_map['week'] == week][data_for_map['weekday'] == day + 1])\n",
      "/tmp/ipykernel_8773/2280881171.py:7: UserWarning: Boolean Series key will be reindexed to match DataFrame index.\n",
      "  activity[day][week] += len(data_for_map[data_for_map['week'] == week][data_for_map['weekday'] == day + 1])\n",
      "/tmp/ipykernel_8773/2280881171.py:7: UserWarning: Boolean Series key will be reindexed to match DataFrame index.\n",
      "  activity[day][week] += len(data_for_map[data_for_map['week'] == week][data_for_map['weekday'] == day + 1])\n",
      "/tmp/ipykernel_8773/2280881171.py:7: UserWarning: Boolean Series key will be reindexed to match DataFrame index.\n",
      "  activity[day][week] += len(data_for_map[data_for_map['week'] == week][data_for_map['weekday'] == day + 1])\n",
      "/tmp/ipykernel_8773/2280881171.py:7: UserWarning: Boolean Series key will be reindexed to match DataFrame index.\n",
      "  activity[day][week] += len(data_for_map[data_for_map['week'] == week][data_for_map['weekday'] == day + 1])\n",
      "/tmp/ipykernel_8773/2280881171.py:7: UserWarning: Boolean Series key will be reindexed to match DataFrame index.\n",
      "  activity[day][week] += len(data_for_map[data_for_map['week'] == week][data_for_map['weekday'] == day + 1])\n",
      "/tmp/ipykernel_8773/2280881171.py:7: UserWarning: Boolean Series key will be reindexed to match DataFrame index.\n",
      "  activity[day][week] += len(data_for_map[data_for_map['week'] == week][data_for_map['weekday'] == day + 1])\n",
      "/tmp/ipykernel_8773/2280881171.py:7: UserWarning: Boolean Series key will be reindexed to match DataFrame index.\n",
      "  activity[day][week] += len(data_for_map[data_for_map['week'] == week][data_for_map['weekday'] == day + 1])\n",
      "/tmp/ipykernel_8773/2280881171.py:7: UserWarning: Boolean Series key will be reindexed to match DataFrame index.\n",
      "  activity[day][week] += len(data_for_map[data_for_map['week'] == week][data_for_map['weekday'] == day + 1])\n",
      "/tmp/ipykernel_8773/2280881171.py:7: UserWarning: Boolean Series key will be reindexed to match DataFrame index.\n",
      "  activity[day][week] += len(data_for_map[data_for_map['week'] == week][data_for_map['weekday'] == day + 1])\n",
      "/tmp/ipykernel_8773/2280881171.py:7: UserWarning: Boolean Series key will be reindexed to match DataFrame index.\n",
      "  activity[day][week] += len(data_for_map[data_for_map['week'] == week][data_for_map['weekday'] == day + 1])\n",
      "/tmp/ipykernel_8773/2280881171.py:7: UserWarning: Boolean Series key will be reindexed to match DataFrame index.\n",
      "  activity[day][week] += len(data_for_map[data_for_map['week'] == week][data_for_map['weekday'] == day + 1])\n",
      "/tmp/ipykernel_8773/2280881171.py:7: UserWarning: Boolean Series key will be reindexed to match DataFrame index.\n",
      "  activity[day][week] += len(data_for_map[data_for_map['week'] == week][data_for_map['weekday'] == day + 1])\n",
      "/tmp/ipykernel_8773/2280881171.py:7: UserWarning: Boolean Series key will be reindexed to match DataFrame index.\n",
      "  activity[day][week] += len(data_for_map[data_for_map['week'] == week][data_for_map['weekday'] == day + 1])\n",
      "/tmp/ipykernel_8773/2280881171.py:7: UserWarning: Boolean Series key will be reindexed to match DataFrame index.\n",
      "  activity[day][week] += len(data_for_map[data_for_map['week'] == week][data_for_map['weekday'] == day + 1])\n",
      "/tmp/ipykernel_8773/2280881171.py:7: UserWarning: Boolean Series key will be reindexed to match DataFrame index.\n",
      "  activity[day][week] += len(data_for_map[data_for_map['week'] == week][data_for_map['weekday'] == day + 1])\n",
      "/tmp/ipykernel_8773/2280881171.py:7: UserWarning: Boolean Series key will be reindexed to match DataFrame index.\n",
      "  activity[day][week] += len(data_for_map[data_for_map['week'] == week][data_for_map['weekday'] == day + 1])\n",
      "/tmp/ipykernel_8773/2280881171.py:7: UserWarning: Boolean Series key will be reindexed to match DataFrame index.\n",
      "  activity[day][week] += len(data_for_map[data_for_map['week'] == week][data_for_map['weekday'] == day + 1])\n",
      "/tmp/ipykernel_8773/2280881171.py:7: UserWarning: Boolean Series key will be reindexed to match DataFrame index.\n",
      "  activity[day][week] += len(data_for_map[data_for_map['week'] == week][data_for_map['weekday'] == day + 1])\n",
      "/tmp/ipykernel_8773/2280881171.py:7: UserWarning: Boolean Series key will be reindexed to match DataFrame index.\n",
      "  activity[day][week] += len(data_for_map[data_for_map['week'] == week][data_for_map['weekday'] == day + 1])\n",
      "/tmp/ipykernel_8773/2280881171.py:7: UserWarning: Boolean Series key will be reindexed to match DataFrame index.\n",
      "  activity[day][week] += len(data_for_map[data_for_map['week'] == week][data_for_map['weekday'] == day + 1])\n",
      "/tmp/ipykernel_8773/2280881171.py:7: UserWarning: Boolean Series key will be reindexed to match DataFrame index.\n",
      "  activity[day][week] += len(data_for_map[data_for_map['week'] == week][data_for_map['weekday'] == day + 1])\n",
      "/tmp/ipykernel_8773/2280881171.py:7: UserWarning: Boolean Series key will be reindexed to match DataFrame index.\n",
      "  activity[day][week] += len(data_for_map[data_for_map['week'] == week][data_for_map['weekday'] == day + 1])\n",
      "/tmp/ipykernel_8773/2280881171.py:7: UserWarning: Boolean Series key will be reindexed to match DataFrame index.\n",
      "  activity[day][week] += len(data_for_map[data_for_map['week'] == week][data_for_map['weekday'] == day + 1])\n",
      "/tmp/ipykernel_8773/2280881171.py:7: UserWarning: Boolean Series key will be reindexed to match DataFrame index.\n",
      "  activity[day][week] += len(data_for_map[data_for_map['week'] == week][data_for_map['weekday'] == day + 1])\n",
      "/tmp/ipykernel_8773/2280881171.py:7: UserWarning: Boolean Series key will be reindexed to match DataFrame index.\n",
      "  activity[day][week] += len(data_for_map[data_for_map['week'] == week][data_for_map['weekday'] == day + 1])\n",
      "/tmp/ipykernel_8773/2280881171.py:7: UserWarning: Boolean Series key will be reindexed to match DataFrame index.\n",
      "  activity[day][week] += len(data_for_map[data_for_map['week'] == week][data_for_map['weekday'] == day + 1])\n",
      "/tmp/ipykernel_8773/2280881171.py:7: UserWarning: Boolean Series key will be reindexed to match DataFrame index.\n",
      "  activity[day][week] += len(data_for_map[data_for_map['week'] == week][data_for_map['weekday'] == day + 1])\n",
      "/tmp/ipykernel_8773/2280881171.py:7: UserWarning: Boolean Series key will be reindexed to match DataFrame index.\n",
      "  activity[day][week] += len(data_for_map[data_for_map['week'] == week][data_for_map['weekday'] == day + 1])\n",
      "/tmp/ipykernel_8773/2280881171.py:7: UserWarning: Boolean Series key will be reindexed to match DataFrame index.\n",
      "  activity[day][week] += len(data_for_map[data_for_map['week'] == week][data_for_map['weekday'] == day + 1])\n",
      "/tmp/ipykernel_8773/2280881171.py:7: UserWarning: Boolean Series key will be reindexed to match DataFrame index.\n",
      "  activity[day][week] += len(data_for_map[data_for_map['week'] == week][data_for_map['weekday'] == day + 1])\n",
      "/tmp/ipykernel_8773/2280881171.py:7: UserWarning: Boolean Series key will be reindexed to match DataFrame index.\n",
      "  activity[day][week] += len(data_for_map[data_for_map['week'] == week][data_for_map['weekday'] == day + 1])\n",
      "/tmp/ipykernel_8773/2280881171.py:7: UserWarning: Boolean Series key will be reindexed to match DataFrame index.\n",
      "  activity[day][week] += len(data_for_map[data_for_map['week'] == week][data_for_map['weekday'] == day + 1])\n",
      "/tmp/ipykernel_8773/2280881171.py:7: UserWarning: Boolean Series key will be reindexed to match DataFrame index.\n",
      "  activity[day][week] += len(data_for_map[data_for_map['week'] == week][data_for_map['weekday'] == day + 1])\n",
      "/tmp/ipykernel_8773/2280881171.py:7: UserWarning: Boolean Series key will be reindexed to match DataFrame index.\n",
      "  activity[day][week] += len(data_for_map[data_for_map['week'] == week][data_for_map['weekday'] == day + 1])\n",
      "/tmp/ipykernel_8773/2280881171.py:7: UserWarning: Boolean Series key will be reindexed to match DataFrame index.\n",
      "  activity[day][week] += len(data_for_map[data_for_map['week'] == week][data_for_map['weekday'] == day + 1])\n",
      "/tmp/ipykernel_8773/2280881171.py:7: UserWarning: Boolean Series key will be reindexed to match DataFrame index.\n",
      "  activity[day][week] += len(data_for_map[data_for_map['week'] == week][data_for_map['weekday'] == day + 1])\n",
      "/tmp/ipykernel_8773/2280881171.py:7: UserWarning: Boolean Series key will be reindexed to match DataFrame index.\n",
      "  activity[day][week] += len(data_for_map[data_for_map['week'] == week][data_for_map['weekday'] == day + 1])\n",
      "/tmp/ipykernel_8773/2280881171.py:7: UserWarning: Boolean Series key will be reindexed to match DataFrame index.\n",
      "  activity[day][week] += len(data_for_map[data_for_map['week'] == week][data_for_map['weekday'] == day + 1])\n",
      "/tmp/ipykernel_8773/2280881171.py:7: UserWarning: Boolean Series key will be reindexed to match DataFrame index.\n",
      "  activity[day][week] += len(data_for_map[data_for_map['week'] == week][data_for_map['weekday'] == day + 1])\n",
      "/tmp/ipykernel_8773/2280881171.py:7: UserWarning: Boolean Series key will be reindexed to match DataFrame index.\n",
      "  activity[day][week] += len(data_for_map[data_for_map['week'] == week][data_for_map['weekday'] == day + 1])\n",
      "/tmp/ipykernel_8773/2280881171.py:7: UserWarning: Boolean Series key will be reindexed to match DataFrame index.\n",
      "  activity[day][week] += len(data_for_map[data_for_map['week'] == week][data_for_map['weekday'] == day + 1])\n",
      "/tmp/ipykernel_8773/2280881171.py:7: UserWarning: Boolean Series key will be reindexed to match DataFrame index.\n",
      "  activity[day][week] += len(data_for_map[data_for_map['week'] == week][data_for_map['weekday'] == day + 1])\n",
      "/tmp/ipykernel_8773/2280881171.py:7: UserWarning: Boolean Series key will be reindexed to match DataFrame index.\n",
      "  activity[day][week] += len(data_for_map[data_for_map['week'] == week][data_for_map['weekday'] == day + 1])\n",
      "/tmp/ipykernel_8773/2280881171.py:7: UserWarning: Boolean Series key will be reindexed to match DataFrame index.\n",
      "  activity[day][week] += len(data_for_map[data_for_map['week'] == week][data_for_map['weekday'] == day + 1])\n",
      "/tmp/ipykernel_8773/2280881171.py:7: UserWarning: Boolean Series key will be reindexed to match DataFrame index.\n",
      "  activity[day][week] += len(data_for_map[data_for_map['week'] == week][data_for_map['weekday'] == day + 1])\n",
      "/tmp/ipykernel_8773/2280881171.py:7: UserWarning: Boolean Series key will be reindexed to match DataFrame index.\n",
      "  activity[day][week] += len(data_for_map[data_for_map['week'] == week][data_for_map['weekday'] == day + 1])\n",
      "/tmp/ipykernel_8773/2280881171.py:7: UserWarning: Boolean Series key will be reindexed to match DataFrame index.\n",
      "  activity[day][week] += len(data_for_map[data_for_map['week'] == week][data_for_map['weekday'] == day + 1])\n",
      "/tmp/ipykernel_8773/2280881171.py:7: UserWarning: Boolean Series key will be reindexed to match DataFrame index.\n",
      "  activity[day][week] += len(data_for_map[data_for_map['week'] == week][data_for_map['weekday'] == day + 1])\n",
      "/tmp/ipykernel_8773/2280881171.py:7: UserWarning: Boolean Series key will be reindexed to match DataFrame index.\n",
      "  activity[day][week] += len(data_for_map[data_for_map['week'] == week][data_for_map['weekday'] == day + 1])\n",
      "/tmp/ipykernel_8773/2280881171.py:7: UserWarning: Boolean Series key will be reindexed to match DataFrame index.\n",
      "  activity[day][week] += len(data_for_map[data_for_map['week'] == week][data_for_map['weekday'] == day + 1])\n",
      "/tmp/ipykernel_8773/2280881171.py:7: UserWarning: Boolean Series key will be reindexed to match DataFrame index.\n",
      "  activity[day][week] += len(data_for_map[data_for_map['week'] == week][data_for_map['weekday'] == day + 1])\n",
      "/tmp/ipykernel_8773/2280881171.py:7: UserWarning: Boolean Series key will be reindexed to match DataFrame index.\n",
      "  activity[day][week] += len(data_for_map[data_for_map['week'] == week][data_for_map['weekday'] == day + 1])\n",
      "/tmp/ipykernel_8773/2280881171.py:7: UserWarning: Boolean Series key will be reindexed to match DataFrame index.\n",
      "  activity[day][week] += len(data_for_map[data_for_map['week'] == week][data_for_map['weekday'] == day + 1])\n",
      "/tmp/ipykernel_8773/2280881171.py:7: UserWarning: Boolean Series key will be reindexed to match DataFrame index.\n",
      "  activity[day][week] += len(data_for_map[data_for_map['week'] == week][data_for_map['weekday'] == day + 1])\n",
      "/tmp/ipykernel_8773/2280881171.py:7: UserWarning: Boolean Series key will be reindexed to match DataFrame index.\n",
      "  activity[day][week] += len(data_for_map[data_for_map['week'] == week][data_for_map['weekday'] == day + 1])\n",
      "/tmp/ipykernel_8773/2280881171.py:7: UserWarning: Boolean Series key will be reindexed to match DataFrame index.\n",
      "  activity[day][week] += len(data_for_map[data_for_map['week'] == week][data_for_map['weekday'] == day + 1])\n",
      "/tmp/ipykernel_8773/2280881171.py:7: UserWarning: Boolean Series key will be reindexed to match DataFrame index.\n",
      "  activity[day][week] += len(data_for_map[data_for_map['week'] == week][data_for_map['weekday'] == day + 1])\n",
      "/tmp/ipykernel_8773/2280881171.py:7: UserWarning: Boolean Series key will be reindexed to match DataFrame index.\n",
      "  activity[day][week] += len(data_for_map[data_for_map['week'] == week][data_for_map['weekday'] == day + 1])\n",
      "/tmp/ipykernel_8773/2280881171.py:7: UserWarning: Boolean Series key will be reindexed to match DataFrame index.\n",
      "  activity[day][week] += len(data_for_map[data_for_map['week'] == week][data_for_map['weekday'] == day + 1])\n",
      "/tmp/ipykernel_8773/2280881171.py:7: UserWarning: Boolean Series key will be reindexed to match DataFrame index.\n",
      "  activity[day][week] += len(data_for_map[data_for_map['week'] == week][data_for_map['weekday'] == day + 1])\n",
      "/tmp/ipykernel_8773/2280881171.py:7: UserWarning: Boolean Series key will be reindexed to match DataFrame index.\n",
      "  activity[day][week] += len(data_for_map[data_for_map['week'] == week][data_for_map['weekday'] == day + 1])\n",
      "/tmp/ipykernel_8773/2280881171.py:7: UserWarning: Boolean Series key will be reindexed to match DataFrame index.\n",
      "  activity[day][week] += len(data_for_map[data_for_map['week'] == week][data_for_map['weekday'] == day + 1])\n",
      "/tmp/ipykernel_8773/2280881171.py:7: UserWarning: Boolean Series key will be reindexed to match DataFrame index.\n",
      "  activity[day][week] += len(data_for_map[data_for_map['week'] == week][data_for_map['weekday'] == day + 1])\n",
      "/tmp/ipykernel_8773/2280881171.py:7: UserWarning: Boolean Series key will be reindexed to match DataFrame index.\n",
      "  activity[day][week] += len(data_for_map[data_for_map['week'] == week][data_for_map['weekday'] == day + 1])\n",
      "/tmp/ipykernel_8773/2280881171.py:7: UserWarning: Boolean Series key will be reindexed to match DataFrame index.\n",
      "  activity[day][week] += len(data_for_map[data_for_map['week'] == week][data_for_map['weekday'] == day + 1])\n",
      "/tmp/ipykernel_8773/2280881171.py:7: UserWarning: Boolean Series key will be reindexed to match DataFrame index.\n",
      "  activity[day][week] += len(data_for_map[data_for_map['week'] == week][data_for_map['weekday'] == day + 1])\n",
      "/tmp/ipykernel_8773/2280881171.py:7: UserWarning: Boolean Series key will be reindexed to match DataFrame index.\n",
      "  activity[day][week] += len(data_for_map[data_for_map['week'] == week][data_for_map['weekday'] == day + 1])\n",
      "/tmp/ipykernel_8773/2280881171.py:7: UserWarning: Boolean Series key will be reindexed to match DataFrame index.\n",
      "  activity[day][week] += len(data_for_map[data_for_map['week'] == week][data_for_map['weekday'] == day + 1])\n",
      "/tmp/ipykernel_8773/2280881171.py:7: UserWarning: Boolean Series key will be reindexed to match DataFrame index.\n",
      "  activity[day][week] += len(data_for_map[data_for_map['week'] == week][data_for_map['weekday'] == day + 1])\n",
      "/tmp/ipykernel_8773/2280881171.py:7: UserWarning: Boolean Series key will be reindexed to match DataFrame index.\n",
      "  activity[day][week] += len(data_for_map[data_for_map['week'] == week][data_for_map['weekday'] == day + 1])\n",
      "/tmp/ipykernel_8773/2280881171.py:7: UserWarning: Boolean Series key will be reindexed to match DataFrame index.\n",
      "  activity[day][week] += len(data_for_map[data_for_map['week'] == week][data_for_map['weekday'] == day + 1])\n",
      "/tmp/ipykernel_8773/2280881171.py:7: UserWarning: Boolean Series key will be reindexed to match DataFrame index.\n",
      "  activity[day][week] += len(data_for_map[data_for_map['week'] == week][data_for_map['weekday'] == day + 1])\n",
      "/tmp/ipykernel_8773/2280881171.py:7: UserWarning: Boolean Series key will be reindexed to match DataFrame index.\n",
      "  activity[day][week] += len(data_for_map[data_for_map['week'] == week][data_for_map['weekday'] == day + 1])\n",
      "/tmp/ipykernel_8773/2280881171.py:7: UserWarning: Boolean Series key will be reindexed to match DataFrame index.\n",
      "  activity[day][week] += len(data_for_map[data_for_map['week'] == week][data_for_map['weekday'] == day + 1])\n",
      "/tmp/ipykernel_8773/2280881171.py:7: UserWarning: Boolean Series key will be reindexed to match DataFrame index.\n",
      "  activity[day][week] += len(data_for_map[data_for_map['week'] == week][data_for_map['weekday'] == day + 1])\n",
      "/tmp/ipykernel_8773/2280881171.py:7: UserWarning: Boolean Series key will be reindexed to match DataFrame index.\n",
      "  activity[day][week] += len(data_for_map[data_for_map['week'] == week][data_for_map['weekday'] == day + 1])\n",
      "/tmp/ipykernel_8773/2280881171.py:7: UserWarning: Boolean Series key will be reindexed to match DataFrame index.\n",
      "  activity[day][week] += len(data_for_map[data_for_map['week'] == week][data_for_map['weekday'] == day + 1])\n",
      "/tmp/ipykernel_8773/2280881171.py:7: UserWarning: Boolean Series key will be reindexed to match DataFrame index.\n",
      "  activity[day][week] += len(data_for_map[data_for_map['week'] == week][data_for_map['weekday'] == day + 1])\n",
      "/tmp/ipykernel_8773/2280881171.py:7: UserWarning: Boolean Series key will be reindexed to match DataFrame index.\n",
      "  activity[day][week] += len(data_for_map[data_for_map['week'] == week][data_for_map['weekday'] == day + 1])\n",
      "/tmp/ipykernel_8773/2280881171.py:7: UserWarning: Boolean Series key will be reindexed to match DataFrame index.\n",
      "  activity[day][week] += len(data_for_map[data_for_map['week'] == week][data_for_map['weekday'] == day + 1])\n",
      "/tmp/ipykernel_8773/2280881171.py:7: UserWarning: Boolean Series key will be reindexed to match DataFrame index.\n",
      "  activity[day][week] += len(data_for_map[data_for_map['week'] == week][data_for_map['weekday'] == day + 1])\n",
      "/tmp/ipykernel_8773/2280881171.py:7: UserWarning: Boolean Series key will be reindexed to match DataFrame index.\n",
      "  activity[day][week] += len(data_for_map[data_for_map['week'] == week][data_for_map['weekday'] == day + 1])\n",
      "/tmp/ipykernel_8773/2280881171.py:7: UserWarning: Boolean Series key will be reindexed to match DataFrame index.\n",
      "  activity[day][week] += len(data_for_map[data_for_map['week'] == week][data_for_map['weekday'] == day + 1])\n",
      "/tmp/ipykernel_8773/2280881171.py:7: UserWarning: Boolean Series key will be reindexed to match DataFrame index.\n",
      "  activity[day][week] += len(data_for_map[data_for_map['week'] == week][data_for_map['weekday'] == day + 1])\n",
      "/tmp/ipykernel_8773/2280881171.py:7: UserWarning: Boolean Series key will be reindexed to match DataFrame index.\n",
      "  activity[day][week] += len(data_for_map[data_for_map['week'] == week][data_for_map['weekday'] == day + 1])\n",
      "/tmp/ipykernel_8773/2280881171.py:7: UserWarning: Boolean Series key will be reindexed to match DataFrame index.\n",
      "  activity[day][week] += len(data_for_map[data_for_map['week'] == week][data_for_map['weekday'] == day + 1])\n",
      "/tmp/ipykernel_8773/2280881171.py:7: UserWarning: Boolean Series key will be reindexed to match DataFrame index.\n",
      "  activity[day][week] += len(data_for_map[data_for_map['week'] == week][data_for_map['weekday'] == day + 1])\n",
      "/tmp/ipykernel_8773/2280881171.py:7: UserWarning: Boolean Series key will be reindexed to match DataFrame index.\n",
      "  activity[day][week] += len(data_for_map[data_for_map['week'] == week][data_for_map['weekday'] == day + 1])\n",
      "/tmp/ipykernel_8773/2280881171.py:7: UserWarning: Boolean Series key will be reindexed to match DataFrame index.\n",
      "  activity[day][week] += len(data_for_map[data_for_map['week'] == week][data_for_map['weekday'] == day + 1])\n",
      "/tmp/ipykernel_8773/2280881171.py:7: UserWarning: Boolean Series key will be reindexed to match DataFrame index.\n",
      "  activity[day][week] += len(data_for_map[data_for_map['week'] == week][data_for_map['weekday'] == day + 1])\n",
      "/tmp/ipykernel_8773/2280881171.py:7: UserWarning: Boolean Series key will be reindexed to match DataFrame index.\n",
      "  activity[day][week] += len(data_for_map[data_for_map['week'] == week][data_for_map['weekday'] == day + 1])\n",
      "/tmp/ipykernel_8773/2280881171.py:7: UserWarning: Boolean Series key will be reindexed to match DataFrame index.\n",
      "  activity[day][week] += len(data_for_map[data_for_map['week'] == week][data_for_map['weekday'] == day + 1])\n",
      "/tmp/ipykernel_8773/2280881171.py:7: UserWarning: Boolean Series key will be reindexed to match DataFrame index.\n",
      "  activity[day][week] += len(data_for_map[data_for_map['week'] == week][data_for_map['weekday'] == day + 1])\n",
      "/tmp/ipykernel_8773/2280881171.py:7: UserWarning: Boolean Series key will be reindexed to match DataFrame index.\n",
      "  activity[day][week] += len(data_for_map[data_for_map['week'] == week][data_for_map['weekday'] == day + 1])\n",
      "/tmp/ipykernel_8773/2280881171.py:7: UserWarning: Boolean Series key will be reindexed to match DataFrame index.\n",
      "  activity[day][week] += len(data_for_map[data_for_map['week'] == week][data_for_map['weekday'] == day + 1])\n",
      "/tmp/ipykernel_8773/2280881171.py:7: UserWarning: Boolean Series key will be reindexed to match DataFrame index.\n",
      "  activity[day][week] += len(data_for_map[data_for_map['week'] == week][data_for_map['weekday'] == day + 1])\n",
      "/tmp/ipykernel_8773/2280881171.py:7: UserWarning: Boolean Series key will be reindexed to match DataFrame index.\n",
      "  activity[day][week] += len(data_for_map[data_for_map['week'] == week][data_for_map['weekday'] == day + 1])\n",
      "/tmp/ipykernel_8773/2280881171.py:7: UserWarning: Boolean Series key will be reindexed to match DataFrame index.\n",
      "  activity[day][week] += len(data_for_map[data_for_map['week'] == week][data_for_map['weekday'] == day + 1])\n",
      "/tmp/ipykernel_8773/2280881171.py:7: UserWarning: Boolean Series key will be reindexed to match DataFrame index.\n",
      "  activity[day][week] += len(data_for_map[data_for_map['week'] == week][data_for_map['weekday'] == day + 1])\n",
      "/tmp/ipykernel_8773/2280881171.py:7: UserWarning: Boolean Series key will be reindexed to match DataFrame index.\n",
      "  activity[day][week] += len(data_for_map[data_for_map['week'] == week][data_for_map['weekday'] == day + 1])\n",
      "/tmp/ipykernel_8773/2280881171.py:7: UserWarning: Boolean Series key will be reindexed to match DataFrame index.\n",
      "  activity[day][week] += len(data_for_map[data_for_map['week'] == week][data_for_map['weekday'] == day + 1])\n",
      "/tmp/ipykernel_8773/2280881171.py:7: UserWarning: Boolean Series key will be reindexed to match DataFrame index.\n",
      "  activity[day][week] += len(data_for_map[data_for_map['week'] == week][data_for_map['weekday'] == day + 1])\n",
      "/tmp/ipykernel_8773/2280881171.py:7: UserWarning: Boolean Series key will be reindexed to match DataFrame index.\n",
      "  activity[day][week] += len(data_for_map[data_for_map['week'] == week][data_for_map['weekday'] == day + 1])\n",
      "/tmp/ipykernel_8773/2280881171.py:7: UserWarning: Boolean Series key will be reindexed to match DataFrame index.\n",
      "  activity[day][week] += len(data_for_map[data_for_map['week'] == week][data_for_map['weekday'] == day + 1])\n",
      "/tmp/ipykernel_8773/2280881171.py:7: UserWarning: Boolean Series key will be reindexed to match DataFrame index.\n",
      "  activity[day][week] += len(data_for_map[data_for_map['week'] == week][data_for_map['weekday'] == day + 1])\n",
      "/tmp/ipykernel_8773/2280881171.py:7: UserWarning: Boolean Series key will be reindexed to match DataFrame index.\n",
      "  activity[day][week] += len(data_for_map[data_for_map['week'] == week][data_for_map['weekday'] == day + 1])\n",
      "/tmp/ipykernel_8773/2280881171.py:7: UserWarning: Boolean Series key will be reindexed to match DataFrame index.\n",
      "  activity[day][week] += len(data_for_map[data_for_map['week'] == week][data_for_map['weekday'] == day + 1])\n",
      "/tmp/ipykernel_8773/2280881171.py:7: UserWarning: Boolean Series key will be reindexed to match DataFrame index.\n",
      "  activity[day][week] += len(data_for_map[data_for_map['week'] == week][data_for_map['weekday'] == day + 1])\n",
      "/tmp/ipykernel_8773/2280881171.py:7: UserWarning: Boolean Series key will be reindexed to match DataFrame index.\n",
      "  activity[day][week] += len(data_for_map[data_for_map['week'] == week][data_for_map['weekday'] == day + 1])\n",
      "/tmp/ipykernel_8773/2280881171.py:7: UserWarning: Boolean Series key will be reindexed to match DataFrame index.\n",
      "  activity[day][week] += len(data_for_map[data_for_map['week'] == week][data_for_map['weekday'] == day + 1])\n",
      "/tmp/ipykernel_8773/2280881171.py:7: UserWarning: Boolean Series key will be reindexed to match DataFrame index.\n",
      "  activity[day][week] += len(data_for_map[data_for_map['week'] == week][data_for_map['weekday'] == day + 1])\n",
      "/tmp/ipykernel_8773/2280881171.py:7: UserWarning: Boolean Series key will be reindexed to match DataFrame index.\n",
      "  activity[day][week] += len(data_for_map[data_for_map['week'] == week][data_for_map['weekday'] == day + 1])\n",
      "/tmp/ipykernel_8773/2280881171.py:7: UserWarning: Boolean Series key will be reindexed to match DataFrame index.\n",
      "  activity[day][week] += len(data_for_map[data_for_map['week'] == week][data_for_map['weekday'] == day + 1])\n",
      "/tmp/ipykernel_8773/2280881171.py:7: UserWarning: Boolean Series key will be reindexed to match DataFrame index.\n",
      "  activity[day][week] += len(data_for_map[data_for_map['week'] == week][data_for_map['weekday'] == day + 1])\n",
      "/tmp/ipykernel_8773/2280881171.py:7: UserWarning: Boolean Series key will be reindexed to match DataFrame index.\n",
      "  activity[day][week] += len(data_for_map[data_for_map['week'] == week][data_for_map['weekday'] == day + 1])\n",
      "/tmp/ipykernel_8773/2280881171.py:7: UserWarning: Boolean Series key will be reindexed to match DataFrame index.\n",
      "  activity[day][week] += len(data_for_map[data_for_map['week'] == week][data_for_map['weekday'] == day + 1])\n",
      "/tmp/ipykernel_8773/2280881171.py:7: UserWarning: Boolean Series key will be reindexed to match DataFrame index.\n",
      "  activity[day][week] += len(data_for_map[data_for_map['week'] == week][data_for_map['weekday'] == day + 1])\n",
      "/tmp/ipykernel_8773/2280881171.py:7: UserWarning: Boolean Series key will be reindexed to match DataFrame index.\n",
      "  activity[day][week] += len(data_for_map[data_for_map['week'] == week][data_for_map['weekday'] == day + 1])\n",
      "/tmp/ipykernel_8773/2280881171.py:7: UserWarning: Boolean Series key will be reindexed to match DataFrame index.\n",
      "  activity[day][week] += len(data_for_map[data_for_map['week'] == week][data_for_map['weekday'] == day + 1])\n",
      "/tmp/ipykernel_8773/2280881171.py:7: UserWarning: Boolean Series key will be reindexed to match DataFrame index.\n",
      "  activity[day][week] += len(data_for_map[data_for_map['week'] == week][data_for_map['weekday'] == day + 1])\n",
      "/tmp/ipykernel_8773/2280881171.py:7: UserWarning: Boolean Series key will be reindexed to match DataFrame index.\n",
      "  activity[day][week] += len(data_for_map[data_for_map['week'] == week][data_for_map['weekday'] == day + 1])\n",
      "/tmp/ipykernel_8773/2280881171.py:7: UserWarning: Boolean Series key will be reindexed to match DataFrame index.\n",
      "  activity[day][week] += len(data_for_map[data_for_map['week'] == week][data_for_map['weekday'] == day + 1])\n",
      "/tmp/ipykernel_8773/2280881171.py:7: UserWarning: Boolean Series key will be reindexed to match DataFrame index.\n",
      "  activity[day][week] += len(data_for_map[data_for_map['week'] == week][data_for_map['weekday'] == day + 1])\n",
      "/tmp/ipykernel_8773/2280881171.py:7: UserWarning: Boolean Series key will be reindexed to match DataFrame index.\n",
      "  activity[day][week] += len(data_for_map[data_for_map['week'] == week][data_for_map['weekday'] == day + 1])\n",
      "/tmp/ipykernel_8773/2280881171.py:7: UserWarning: Boolean Series key will be reindexed to match DataFrame index.\n",
      "  activity[day][week] += len(data_for_map[data_for_map['week'] == week][data_for_map['weekday'] == day + 1])\n",
      "/tmp/ipykernel_8773/2280881171.py:7: UserWarning: Boolean Series key will be reindexed to match DataFrame index.\n",
      "  activity[day][week] += len(data_for_map[data_for_map['week'] == week][data_for_map['weekday'] == day + 1])\n",
      "/tmp/ipykernel_8773/2280881171.py:7: UserWarning: Boolean Series key will be reindexed to match DataFrame index.\n",
      "  activity[day][week] += len(data_for_map[data_for_map['week'] == week][data_for_map['weekday'] == day + 1])\n",
      "/tmp/ipykernel_8773/2280881171.py:7: UserWarning: Boolean Series key will be reindexed to match DataFrame index.\n",
      "  activity[day][week] += len(data_for_map[data_for_map['week'] == week][data_for_map['weekday'] == day + 1])\n",
      "/tmp/ipykernel_8773/2280881171.py:7: UserWarning: Boolean Series key will be reindexed to match DataFrame index.\n",
      "  activity[day][week] += len(data_for_map[data_for_map['week'] == week][data_for_map['weekday'] == day + 1])\n",
      "/tmp/ipykernel_8773/2280881171.py:7: UserWarning: Boolean Series key will be reindexed to match DataFrame index.\n",
      "  activity[day][week] += len(data_for_map[data_for_map['week'] == week][data_for_map['weekday'] == day + 1])\n",
      "/tmp/ipykernel_8773/2280881171.py:7: UserWarning: Boolean Series key will be reindexed to match DataFrame index.\n",
      "  activity[day][week] += len(data_for_map[data_for_map['week'] == week][data_for_map['weekday'] == day + 1])\n",
      "/tmp/ipykernel_8773/2280881171.py:7: UserWarning: Boolean Series key will be reindexed to match DataFrame index.\n",
      "  activity[day][week] += len(data_for_map[data_for_map['week'] == week][data_for_map['weekday'] == day + 1])\n",
      "/tmp/ipykernel_8773/2280881171.py:7: UserWarning: Boolean Series key will be reindexed to match DataFrame index.\n",
      "  activity[day][week] += len(data_for_map[data_for_map['week'] == week][data_for_map['weekday'] == day + 1])\n",
      "/tmp/ipykernel_8773/2280881171.py:7: UserWarning: Boolean Series key will be reindexed to match DataFrame index.\n",
      "  activity[day][week] += len(data_for_map[data_for_map['week'] == week][data_for_map['weekday'] == day + 1])\n",
      "/tmp/ipykernel_8773/2280881171.py:7: UserWarning: Boolean Series key will be reindexed to match DataFrame index.\n",
      "  activity[day][week] += len(data_for_map[data_for_map['week'] == week][data_for_map['weekday'] == day + 1])\n",
      "/tmp/ipykernel_8773/2280881171.py:7: UserWarning: Boolean Series key will be reindexed to match DataFrame index.\n",
      "  activity[day][week] += len(data_for_map[data_for_map['week'] == week][data_for_map['weekday'] == day + 1])\n",
      "/tmp/ipykernel_8773/2280881171.py:7: UserWarning: Boolean Series key will be reindexed to match DataFrame index.\n",
      "  activity[day][week] += len(data_for_map[data_for_map['week'] == week][data_for_map['weekday'] == day + 1])\n",
      "/tmp/ipykernel_8773/2280881171.py:7: UserWarning: Boolean Series key will be reindexed to match DataFrame index.\n",
      "  activity[day][week] += len(data_for_map[data_for_map['week'] == week][data_for_map['weekday'] == day + 1])\n",
      "/tmp/ipykernel_8773/2280881171.py:7: UserWarning: Boolean Series key will be reindexed to match DataFrame index.\n",
      "  activity[day][week] += len(data_for_map[data_for_map['week'] == week][data_for_map['weekday'] == day + 1])\n",
      "/tmp/ipykernel_8773/2280881171.py:7: UserWarning: Boolean Series key will be reindexed to match DataFrame index.\n",
      "  activity[day][week] += len(data_for_map[data_for_map['week'] == week][data_for_map['weekday'] == day + 1])\n",
      "/tmp/ipykernel_8773/2280881171.py:7: UserWarning: Boolean Series key will be reindexed to match DataFrame index.\n",
      "  activity[day][week] += len(data_for_map[data_for_map['week'] == week][data_for_map['weekday'] == day + 1])\n",
      "/tmp/ipykernel_8773/2280881171.py:7: UserWarning: Boolean Series key will be reindexed to match DataFrame index.\n",
      "  activity[day][week] += len(data_for_map[data_for_map['week'] == week][data_for_map['weekday'] == day + 1])\n",
      "/tmp/ipykernel_8773/2280881171.py:7: UserWarning: Boolean Series key will be reindexed to match DataFrame index.\n",
      "  activity[day][week] += len(data_for_map[data_for_map['week'] == week][data_for_map['weekday'] == day + 1])\n",
      "/tmp/ipykernel_8773/2280881171.py:7: UserWarning: Boolean Series key will be reindexed to match DataFrame index.\n",
      "  activity[day][week] += len(data_for_map[data_for_map['week'] == week][data_for_map['weekday'] == day + 1])\n",
      "/tmp/ipykernel_8773/2280881171.py:7: UserWarning: Boolean Series key will be reindexed to match DataFrame index.\n",
      "  activity[day][week] += len(data_for_map[data_for_map['week'] == week][data_for_map['weekday'] == day + 1])\n",
      "/tmp/ipykernel_8773/2280881171.py:7: UserWarning: Boolean Series key will be reindexed to match DataFrame index.\n",
      "  activity[day][week] += len(data_for_map[data_for_map['week'] == week][data_for_map['weekday'] == day + 1])\n",
      "/tmp/ipykernel_8773/2280881171.py:7: UserWarning: Boolean Series key will be reindexed to match DataFrame index.\n",
      "  activity[day][week] += len(data_for_map[data_for_map['week'] == week][data_for_map['weekday'] == day + 1])\n",
      "/tmp/ipykernel_8773/2280881171.py:7: UserWarning: Boolean Series key will be reindexed to match DataFrame index.\n",
      "  activity[day][week] += len(data_for_map[data_for_map['week'] == week][data_for_map['weekday'] == day + 1])\n",
      "/tmp/ipykernel_8773/2280881171.py:7: UserWarning: Boolean Series key will be reindexed to match DataFrame index.\n",
      "  activity[day][week] += len(data_for_map[data_for_map['week'] == week][data_for_map['weekday'] == day + 1])\n",
      "/tmp/ipykernel_8773/2280881171.py:7: UserWarning: Boolean Series key will be reindexed to match DataFrame index.\n",
      "  activity[day][week] += len(data_for_map[data_for_map['week'] == week][data_for_map['weekday'] == day + 1])\n",
      "/tmp/ipykernel_8773/2280881171.py:7: UserWarning: Boolean Series key will be reindexed to match DataFrame index.\n",
      "  activity[day][week] += len(data_for_map[data_for_map['week'] == week][data_for_map['weekday'] == day + 1])\n",
      "/tmp/ipykernel_8773/2280881171.py:7: UserWarning: Boolean Series key will be reindexed to match DataFrame index.\n",
      "  activity[day][week] += len(data_for_map[data_for_map['week'] == week][data_for_map['weekday'] == day + 1])\n",
      "/tmp/ipykernel_8773/2280881171.py:7: UserWarning: Boolean Series key will be reindexed to match DataFrame index.\n",
      "  activity[day][week] += len(data_for_map[data_for_map['week'] == week][data_for_map['weekday'] == day + 1])\n",
      "/tmp/ipykernel_8773/2280881171.py:7: UserWarning: Boolean Series key will be reindexed to match DataFrame index.\n",
      "  activity[day][week] += len(data_for_map[data_for_map['week'] == week][data_for_map['weekday'] == day + 1])\n",
      "/tmp/ipykernel_8773/2280881171.py:7: UserWarning: Boolean Series key will be reindexed to match DataFrame index.\n",
      "  activity[day][week] += len(data_for_map[data_for_map['week'] == week][data_for_map['weekday'] == day + 1])\n",
      "/tmp/ipykernel_8773/2280881171.py:7: UserWarning: Boolean Series key will be reindexed to match DataFrame index.\n",
      "  activity[day][week] += len(data_for_map[data_for_map['week'] == week][data_for_map['weekday'] == day + 1])\n",
      "/tmp/ipykernel_8773/2280881171.py:7: UserWarning: Boolean Series key will be reindexed to match DataFrame index.\n",
      "  activity[day][week] += len(data_for_map[data_for_map['week'] == week][data_for_map['weekday'] == day + 1])\n",
      "/tmp/ipykernel_8773/2280881171.py:7: UserWarning: Boolean Series key will be reindexed to match DataFrame index.\n",
      "  activity[day][week] += len(data_for_map[data_for_map['week'] == week][data_for_map['weekday'] == day + 1])\n",
      "/tmp/ipykernel_8773/2280881171.py:7: UserWarning: Boolean Series key will be reindexed to match DataFrame index.\n",
      "  activity[day][week] += len(data_for_map[data_for_map['week'] == week][data_for_map['weekday'] == day + 1])\n",
      "/tmp/ipykernel_8773/2280881171.py:7: UserWarning: Boolean Series key will be reindexed to match DataFrame index.\n",
      "  activity[day][week] += len(data_for_map[data_for_map['week'] == week][data_for_map['weekday'] == day + 1])\n",
      "/tmp/ipykernel_8773/2280881171.py:7: UserWarning: Boolean Series key will be reindexed to match DataFrame index.\n",
      "  activity[day][week] += len(data_for_map[data_for_map['week'] == week][data_for_map['weekday'] == day + 1])\n",
      "/tmp/ipykernel_8773/2280881171.py:7: UserWarning: Boolean Series key will be reindexed to match DataFrame index.\n",
      "  activity[day][week] += len(data_for_map[data_for_map['week'] == week][data_for_map['weekday'] == day + 1])\n",
      "/tmp/ipykernel_8773/2280881171.py:7: UserWarning: Boolean Series key will be reindexed to match DataFrame index.\n",
      "  activity[day][week] += len(data_for_map[data_for_map['week'] == week][data_for_map['weekday'] == day + 1])\n",
      "/tmp/ipykernel_8773/2280881171.py:7: UserWarning: Boolean Series key will be reindexed to match DataFrame index.\n",
      "  activity[day][week] += len(data_for_map[data_for_map['week'] == week][data_for_map['weekday'] == day + 1])\n",
      "/tmp/ipykernel_8773/2280881171.py:7: UserWarning: Boolean Series key will be reindexed to match DataFrame index.\n",
      "  activity[day][week] += len(data_for_map[data_for_map['week'] == week][data_for_map['weekday'] == day + 1])\n",
      "/tmp/ipykernel_8773/2280881171.py:7: UserWarning: Boolean Series key will be reindexed to match DataFrame index.\n",
      "  activity[day][week] += len(data_for_map[data_for_map['week'] == week][data_for_map['weekday'] == day + 1])\n",
      "/tmp/ipykernel_8773/2280881171.py:7: UserWarning: Boolean Series key will be reindexed to match DataFrame index.\n",
      "  activity[day][week] += len(data_for_map[data_for_map['week'] == week][data_for_map['weekday'] == day + 1])\n",
      "/tmp/ipykernel_8773/2280881171.py:7: UserWarning: Boolean Series key will be reindexed to match DataFrame index.\n",
      "  activity[day][week] += len(data_for_map[data_for_map['week'] == week][data_for_map['weekday'] == day + 1])\n",
      "/tmp/ipykernel_8773/2280881171.py:7: UserWarning: Boolean Series key will be reindexed to match DataFrame index.\n",
      "  activity[day][week] += len(data_for_map[data_for_map['week'] == week][data_for_map['weekday'] == day + 1])\n",
      "/tmp/ipykernel_8773/2280881171.py:7: UserWarning: Boolean Series key will be reindexed to match DataFrame index.\n",
      "  activity[day][week] += len(data_for_map[data_for_map['week'] == week][data_for_map['weekday'] == day + 1])\n",
      "/tmp/ipykernel_8773/2280881171.py:7: UserWarning: Boolean Series key will be reindexed to match DataFrame index.\n",
      "  activity[day][week] += len(data_for_map[data_for_map['week'] == week][data_for_map['weekday'] == day + 1])\n",
      "/tmp/ipykernel_8773/2280881171.py:7: UserWarning: Boolean Series key will be reindexed to match DataFrame index.\n",
      "  activity[day][week] += len(data_for_map[data_for_map['week'] == week][data_for_map['weekday'] == day + 1])\n",
      "/tmp/ipykernel_8773/2280881171.py:7: UserWarning: Boolean Series key will be reindexed to match DataFrame index.\n",
      "  activity[day][week] += len(data_for_map[data_for_map['week'] == week][data_for_map['weekday'] == day + 1])\n",
      "/tmp/ipykernel_8773/2280881171.py:7: UserWarning: Boolean Series key will be reindexed to match DataFrame index.\n",
      "  activity[day][week] += len(data_for_map[data_for_map['week'] == week][data_for_map['weekday'] == day + 1])\n",
      "/tmp/ipykernel_8773/2280881171.py:7: UserWarning: Boolean Series key will be reindexed to match DataFrame index.\n",
      "  activity[day][week] += len(data_for_map[data_for_map['week'] == week][data_for_map['weekday'] == day + 1])\n",
      "/tmp/ipykernel_8773/2280881171.py:7: UserWarning: Boolean Series key will be reindexed to match DataFrame index.\n",
      "  activity[day][week] += len(data_for_map[data_for_map['week'] == week][data_for_map['weekday'] == day + 1])\n",
      "/tmp/ipykernel_8773/2280881171.py:7: UserWarning: Boolean Series key will be reindexed to match DataFrame index.\n",
      "  activity[day][week] += len(data_for_map[data_for_map['week'] == week][data_for_map['weekday'] == day + 1])\n",
      "/tmp/ipykernel_8773/2280881171.py:7: UserWarning: Boolean Series key will be reindexed to match DataFrame index.\n",
      "  activity[day][week] += len(data_for_map[data_for_map['week'] == week][data_for_map['weekday'] == day + 1])\n",
      "/tmp/ipykernel_8773/2280881171.py:7: UserWarning: Boolean Series key will be reindexed to match DataFrame index.\n",
      "  activity[day][week] += len(data_for_map[data_for_map['week'] == week][data_for_map['weekday'] == day + 1])\n",
      "/tmp/ipykernel_8773/2280881171.py:7: UserWarning: Boolean Series key will be reindexed to match DataFrame index.\n",
      "  activity[day][week] += len(data_for_map[data_for_map['week'] == week][data_for_map['weekday'] == day + 1])\n",
      "/tmp/ipykernel_8773/2280881171.py:7: UserWarning: Boolean Series key will be reindexed to match DataFrame index.\n",
      "  activity[day][week] += len(data_for_map[data_for_map['week'] == week][data_for_map['weekday'] == day + 1])\n",
      "/tmp/ipykernel_8773/2280881171.py:7: UserWarning: Boolean Series key will be reindexed to match DataFrame index.\n",
      "  activity[day][week] += len(data_for_map[data_for_map['week'] == week][data_for_map['weekday'] == day + 1])\n",
      "/tmp/ipykernel_8773/2280881171.py:7: UserWarning: Boolean Series key will be reindexed to match DataFrame index.\n",
      "  activity[day][week] += len(data_for_map[data_for_map['week'] == week][data_for_map['weekday'] == day + 1])\n",
      "/tmp/ipykernel_8773/2280881171.py:7: UserWarning: Boolean Series key will be reindexed to match DataFrame index.\n",
      "  activity[day][week] += len(data_for_map[data_for_map['week'] == week][data_for_map['weekday'] == day + 1])\n",
      "/tmp/ipykernel_8773/2280881171.py:7: UserWarning: Boolean Series key will be reindexed to match DataFrame index.\n",
      "  activity[day][week] += len(data_for_map[data_for_map['week'] == week][data_for_map['weekday'] == day + 1])\n",
      "/tmp/ipykernel_8773/2280881171.py:7: UserWarning: Boolean Series key will be reindexed to match DataFrame index.\n",
      "  activity[day][week] += len(data_for_map[data_for_map['week'] == week][data_for_map['weekday'] == day + 1])\n",
      "/tmp/ipykernel_8773/2280881171.py:7: UserWarning: Boolean Series key will be reindexed to match DataFrame index.\n",
      "  activity[day][week] += len(data_for_map[data_for_map['week'] == week][data_for_map['weekday'] == day + 1])\n",
      "/tmp/ipykernel_8773/2280881171.py:7: UserWarning: Boolean Series key will be reindexed to match DataFrame index.\n",
      "  activity[day][week] += len(data_for_map[data_for_map['week'] == week][data_for_map['weekday'] == day + 1])\n",
      "/tmp/ipykernel_8773/2280881171.py:7: UserWarning: Boolean Series key will be reindexed to match DataFrame index.\n",
      "  activity[day][week] += len(data_for_map[data_for_map['week'] == week][data_for_map['weekday'] == day + 1])\n",
      "/tmp/ipykernel_8773/2280881171.py:7: UserWarning: Boolean Series key will be reindexed to match DataFrame index.\n",
      "  activity[day][week] += len(data_for_map[data_for_map['week'] == week][data_for_map['weekday'] == day + 1])\n",
      "/tmp/ipykernel_8773/2280881171.py:7: UserWarning: Boolean Series key will be reindexed to match DataFrame index.\n",
      "  activity[day][week] += len(data_for_map[data_for_map['week'] == week][data_for_map['weekday'] == day + 1])\n",
      "/tmp/ipykernel_8773/2280881171.py:7: UserWarning: Boolean Series key will be reindexed to match DataFrame index.\n",
      "  activity[day][week] += len(data_for_map[data_for_map['week'] == week][data_for_map['weekday'] == day + 1])\n",
      "/tmp/ipykernel_8773/2280881171.py:7: UserWarning: Boolean Series key will be reindexed to match DataFrame index.\n",
      "  activity[day][week] += len(data_for_map[data_for_map['week'] == week][data_for_map['weekday'] == day + 1])\n",
      "/tmp/ipykernel_8773/2280881171.py:7: UserWarning: Boolean Series key will be reindexed to match DataFrame index.\n",
      "  activity[day][week] += len(data_for_map[data_for_map['week'] == week][data_for_map['weekday'] == day + 1])\n",
      "/tmp/ipykernel_8773/2280881171.py:7: UserWarning: Boolean Series key will be reindexed to match DataFrame index.\n",
      "  activity[day][week] += len(data_for_map[data_for_map['week'] == week][data_for_map['weekday'] == day + 1])\n",
      "/tmp/ipykernel_8773/2280881171.py:7: UserWarning: Boolean Series key will be reindexed to match DataFrame index.\n",
      "  activity[day][week] += len(data_for_map[data_for_map['week'] == week][data_for_map['weekday'] == day + 1])\n",
      "/tmp/ipykernel_8773/2280881171.py:7: UserWarning: Boolean Series key will be reindexed to match DataFrame index.\n",
      "  activity[day][week] += len(data_for_map[data_for_map['week'] == week][data_for_map['weekday'] == day + 1])\n",
      "/tmp/ipykernel_8773/2280881171.py:7: UserWarning: Boolean Series key will be reindexed to match DataFrame index.\n",
      "  activity[day][week] += len(data_for_map[data_for_map['week'] == week][data_for_map['weekday'] == day + 1])\n",
      "/tmp/ipykernel_8773/2280881171.py:7: UserWarning: Boolean Series key will be reindexed to match DataFrame index.\n",
      "  activity[day][week] += len(data_for_map[data_for_map['week'] == week][data_for_map['weekday'] == day + 1])\n",
      "/tmp/ipykernel_8773/2280881171.py:7: UserWarning: Boolean Series key will be reindexed to match DataFrame index.\n",
      "  activity[day][week] += len(data_for_map[data_for_map['week'] == week][data_for_map['weekday'] == day + 1])\n",
      "/tmp/ipykernel_8773/2280881171.py:7: UserWarning: Boolean Series key will be reindexed to match DataFrame index.\n",
      "  activity[day][week] += len(data_for_map[data_for_map['week'] == week][data_for_map['weekday'] == day + 1])\n",
      "/tmp/ipykernel_8773/2280881171.py:7: UserWarning: Boolean Series key will be reindexed to match DataFrame index.\n",
      "  activity[day][week] += len(data_for_map[data_for_map['week'] == week][data_for_map['weekday'] == day + 1])\n",
      "/tmp/ipykernel_8773/2280881171.py:7: UserWarning: Boolean Series key will be reindexed to match DataFrame index.\n",
      "  activity[day][week] += len(data_for_map[data_for_map['week'] == week][data_for_map['weekday'] == day + 1])\n",
      "/tmp/ipykernel_8773/2280881171.py:7: UserWarning: Boolean Series key will be reindexed to match DataFrame index.\n",
      "  activity[day][week] += len(data_for_map[data_for_map['week'] == week][data_for_map['weekday'] == day + 1])\n",
      "/tmp/ipykernel_8773/2280881171.py:7: UserWarning: Boolean Series key will be reindexed to match DataFrame index.\n",
      "  activity[day][week] += len(data_for_map[data_for_map['week'] == week][data_for_map['weekday'] == day + 1])\n",
      "/tmp/ipykernel_8773/2280881171.py:7: UserWarning: Boolean Series key will be reindexed to match DataFrame index.\n",
      "  activity[day][week] += len(data_for_map[data_for_map['week'] == week][data_for_map['weekday'] == day + 1])\n",
      "/tmp/ipykernel_8773/2280881171.py:7: UserWarning: Boolean Series key will be reindexed to match DataFrame index.\n",
      "  activity[day][week] += len(data_for_map[data_for_map['week'] == week][data_for_map['weekday'] == day + 1])\n",
      "/tmp/ipykernel_8773/2280881171.py:7: UserWarning: Boolean Series key will be reindexed to match DataFrame index.\n",
      "  activity[day][week] += len(data_for_map[data_for_map['week'] == week][data_for_map['weekday'] == day + 1])\n",
      "/tmp/ipykernel_8773/2280881171.py:7: UserWarning: Boolean Series key will be reindexed to match DataFrame index.\n",
      "  activity[day][week] += len(data_for_map[data_for_map['week'] == week][data_for_map['weekday'] == day + 1])\n",
      "/tmp/ipykernel_8773/2280881171.py:7: UserWarning: Boolean Series key will be reindexed to match DataFrame index.\n",
      "  activity[day][week] += len(data_for_map[data_for_map['week'] == week][data_for_map['weekday'] == day + 1])\n",
      "/tmp/ipykernel_8773/2280881171.py:7: UserWarning: Boolean Series key will be reindexed to match DataFrame index.\n",
      "  activity[day][week] += len(data_for_map[data_for_map['week'] == week][data_for_map['weekday'] == day + 1])\n",
      "/tmp/ipykernel_8773/2280881171.py:7: UserWarning: Boolean Series key will be reindexed to match DataFrame index.\n",
      "  activity[day][week] += len(data_for_map[data_for_map['week'] == week][data_for_map['weekday'] == day + 1])\n",
      "/tmp/ipykernel_8773/2280881171.py:7: UserWarning: Boolean Series key will be reindexed to match DataFrame index.\n",
      "  activity[day][week] += len(data_for_map[data_for_map['week'] == week][data_for_map['weekday'] == day + 1])\n",
      "/tmp/ipykernel_8773/2280881171.py:7: UserWarning: Boolean Series key will be reindexed to match DataFrame index.\n",
      "  activity[day][week] += len(data_for_map[data_for_map['week'] == week][data_for_map['weekday'] == day + 1])\n",
      "/tmp/ipykernel_8773/2280881171.py:7: UserWarning: Boolean Series key will be reindexed to match DataFrame index.\n",
      "  activity[day][week] += len(data_for_map[data_for_map['week'] == week][data_for_map['weekday'] == day + 1])\n",
      "/tmp/ipykernel_8773/2280881171.py:7: UserWarning: Boolean Series key will be reindexed to match DataFrame index.\n",
      "  activity[day][week] += len(data_for_map[data_for_map['week'] == week][data_for_map['weekday'] == day + 1])\n",
      "/tmp/ipykernel_8773/2280881171.py:7: UserWarning: Boolean Series key will be reindexed to match DataFrame index.\n",
      "  activity[day][week] += len(data_for_map[data_for_map['week'] == week][data_for_map['weekday'] == day + 1])\n",
      "/tmp/ipykernel_8773/2280881171.py:7: UserWarning: Boolean Series key will be reindexed to match DataFrame index.\n",
      "  activity[day][week] += len(data_for_map[data_for_map['week'] == week][data_for_map['weekday'] == day + 1])\n",
      "/tmp/ipykernel_8773/2280881171.py:7: UserWarning: Boolean Series key will be reindexed to match DataFrame index.\n",
      "  activity[day][week] += len(data_for_map[data_for_map['week'] == week][data_for_map['weekday'] == day + 1])\n",
      "/tmp/ipykernel_8773/2280881171.py:7: UserWarning: Boolean Series key will be reindexed to match DataFrame index.\n",
      "  activity[day][week] += len(data_for_map[data_for_map['week'] == week][data_for_map['weekday'] == day + 1])\n",
      "/tmp/ipykernel_8773/2280881171.py:7: UserWarning: Boolean Series key will be reindexed to match DataFrame index.\n",
      "  activity[day][week] += len(data_for_map[data_for_map['week'] == week][data_for_map['weekday'] == day + 1])\n",
      "/tmp/ipykernel_8773/2280881171.py:7: UserWarning: Boolean Series key will be reindexed to match DataFrame index.\n",
      "  activity[day][week] += len(data_for_map[data_for_map['week'] == week][data_for_map['weekday'] == day + 1])\n",
      "/tmp/ipykernel_8773/2280881171.py:7: UserWarning: Boolean Series key will be reindexed to match DataFrame index.\n",
      "  activity[day][week] += len(data_for_map[data_for_map['week'] == week][data_for_map['weekday'] == day + 1])\n",
      "/tmp/ipykernel_8773/2280881171.py:7: UserWarning: Boolean Series key will be reindexed to match DataFrame index.\n",
      "  activity[day][week] += len(data_for_map[data_for_map['week'] == week][data_for_map['weekday'] == day + 1])\n",
      "/tmp/ipykernel_8773/2280881171.py:7: UserWarning: Boolean Series key will be reindexed to match DataFrame index.\n",
      "  activity[day][week] += len(data_for_map[data_for_map['week'] == week][data_for_map['weekday'] == day + 1])\n",
      "/tmp/ipykernel_8773/2280881171.py:7: UserWarning: Boolean Series key will be reindexed to match DataFrame index.\n",
      "  activity[day][week] += len(data_for_map[data_for_map['week'] == week][data_for_map['weekday'] == day + 1])\n",
      "/tmp/ipykernel_8773/2280881171.py:7: UserWarning: Boolean Series key will be reindexed to match DataFrame index.\n",
      "  activity[day][week] += len(data_for_map[data_for_map['week'] == week][data_for_map['weekday'] == day + 1])\n",
      "/tmp/ipykernel_8773/2280881171.py:7: UserWarning: Boolean Series key will be reindexed to match DataFrame index.\n",
      "  activity[day][week] += len(data_for_map[data_for_map['week'] == week][data_for_map['weekday'] == day + 1])\n",
      "/tmp/ipykernel_8773/2280881171.py:7: UserWarning: Boolean Series key will be reindexed to match DataFrame index.\n",
      "  activity[day][week] += len(data_for_map[data_for_map['week'] == week][data_for_map['weekday'] == day + 1])\n",
      "/tmp/ipykernel_8773/2280881171.py:7: UserWarning: Boolean Series key will be reindexed to match DataFrame index.\n",
      "  activity[day][week] += len(data_for_map[data_for_map['week'] == week][data_for_map['weekday'] == day + 1])\n",
      "/tmp/ipykernel_8773/2280881171.py:7: UserWarning: Boolean Series key will be reindexed to match DataFrame index.\n",
      "  activity[day][week] += len(data_for_map[data_for_map['week'] == week][data_for_map['weekday'] == day + 1])\n",
      "/tmp/ipykernel_8773/2280881171.py:7: UserWarning: Boolean Series key will be reindexed to match DataFrame index.\n",
      "  activity[day][week] += len(data_for_map[data_for_map['week'] == week][data_for_map['weekday'] == day + 1])\n",
      "/tmp/ipykernel_8773/2280881171.py:7: UserWarning: Boolean Series key will be reindexed to match DataFrame index.\n",
      "  activity[day][week] += len(data_for_map[data_for_map['week'] == week][data_for_map['weekday'] == day + 1])\n",
      "/tmp/ipykernel_8773/2280881171.py:7: UserWarning: Boolean Series key will be reindexed to match DataFrame index.\n",
      "  activity[day][week] += len(data_for_map[data_for_map['week'] == week][data_for_map['weekday'] == day + 1])\n",
      "/tmp/ipykernel_8773/2280881171.py:7: UserWarning: Boolean Series key will be reindexed to match DataFrame index.\n",
      "  activity[day][week] += len(data_for_map[data_for_map['week'] == week][data_for_map['weekday'] == day + 1])\n",
      "/tmp/ipykernel_8773/2280881171.py:7: UserWarning: Boolean Series key will be reindexed to match DataFrame index.\n",
      "  activity[day][week] += len(data_for_map[data_for_map['week'] == week][data_for_map['weekday'] == day + 1])\n",
      "/tmp/ipykernel_8773/2280881171.py:7: UserWarning: Boolean Series key will be reindexed to match DataFrame index.\n",
      "  activity[day][week] += len(data_for_map[data_for_map['week'] == week][data_for_map['weekday'] == day + 1])\n",
      "/tmp/ipykernel_8773/2280881171.py:7: UserWarning: Boolean Series key will be reindexed to match DataFrame index.\n",
      "  activity[day][week] += len(data_for_map[data_for_map['week'] == week][data_for_map['weekday'] == day + 1])\n",
      "/tmp/ipykernel_8773/2280881171.py:7: UserWarning: Boolean Series key will be reindexed to match DataFrame index.\n",
      "  activity[day][week] += len(data_for_map[data_for_map['week'] == week][data_for_map['weekday'] == day + 1])\n",
      "/tmp/ipykernel_8773/2280881171.py:7: UserWarning: Boolean Series key will be reindexed to match DataFrame index.\n",
      "  activity[day][week] += len(data_for_map[data_for_map['week'] == week][data_for_map['weekday'] == day + 1])\n",
      "/tmp/ipykernel_8773/2280881171.py:7: UserWarning: Boolean Series key will be reindexed to match DataFrame index.\n",
      "  activity[day][week] += len(data_for_map[data_for_map['week'] == week][data_for_map['weekday'] == day + 1])\n",
      "/tmp/ipykernel_8773/2280881171.py:7: UserWarning: Boolean Series key will be reindexed to match DataFrame index.\n",
      "  activity[day][week] += len(data_for_map[data_for_map['week'] == week][data_for_map['weekday'] == day + 1])\n",
      "/tmp/ipykernel_8773/2280881171.py:7: UserWarning: Boolean Series key will be reindexed to match DataFrame index.\n",
      "  activity[day][week] += len(data_for_map[data_for_map['week'] == week][data_for_map['weekday'] == day + 1])\n",
      "/tmp/ipykernel_8773/2280881171.py:7: UserWarning: Boolean Series key will be reindexed to match DataFrame index.\n",
      "  activity[day][week] += len(data_for_map[data_for_map['week'] == week][data_for_map['weekday'] == day + 1])\n",
      "/tmp/ipykernel_8773/2280881171.py:7: UserWarning: Boolean Series key will be reindexed to match DataFrame index.\n",
      "  activity[day][week] += len(data_for_map[data_for_map['week'] == week][data_for_map['weekday'] == day + 1])\n",
      "/tmp/ipykernel_8773/2280881171.py:7: UserWarning: Boolean Series key will be reindexed to match DataFrame index.\n",
      "  activity[day][week] += len(data_for_map[data_for_map['week'] == week][data_for_map['weekday'] == day + 1])\n",
      "/tmp/ipykernel_8773/2280881171.py:7: UserWarning: Boolean Series key will be reindexed to match DataFrame index.\n",
      "  activity[day][week] += len(data_for_map[data_for_map['week'] == week][data_for_map['weekday'] == day + 1])\n",
      "/tmp/ipykernel_8773/2280881171.py:7: UserWarning: Boolean Series key will be reindexed to match DataFrame index.\n",
      "  activity[day][week] += len(data_for_map[data_for_map['week'] == week][data_for_map['weekday'] == day + 1])\n",
      "/tmp/ipykernel_8773/2280881171.py:7: UserWarning: Boolean Series key will be reindexed to match DataFrame index.\n",
      "  activity[day][week] += len(data_for_map[data_for_map['week'] == week][data_for_map['weekday'] == day + 1])\n",
      "/tmp/ipykernel_8773/2280881171.py:7: UserWarning: Boolean Series key will be reindexed to match DataFrame index.\n",
      "  activity[day][week] += len(data_for_map[data_for_map['week'] == week][data_for_map['weekday'] == day + 1])\n",
      "/tmp/ipykernel_8773/2280881171.py:7: UserWarning: Boolean Series key will be reindexed to match DataFrame index.\n",
      "  activity[day][week] += len(data_for_map[data_for_map['week'] == week][data_for_map['weekday'] == day + 1])\n",
      "/tmp/ipykernel_8773/2280881171.py:7: UserWarning: Boolean Series key will be reindexed to match DataFrame index.\n",
      "  activity[day][week] += len(data_for_map[data_for_map['week'] == week][data_for_map['weekday'] == day + 1])\n",
      "/tmp/ipykernel_8773/2280881171.py:7: UserWarning: Boolean Series key will be reindexed to match DataFrame index.\n",
      "  activity[day][week] += len(data_for_map[data_for_map['week'] == week][data_for_map['weekday'] == day + 1])\n",
      "/tmp/ipykernel_8773/2280881171.py:7: UserWarning: Boolean Series key will be reindexed to match DataFrame index.\n",
      "  activity[day][week] += len(data_for_map[data_for_map['week'] == week][data_for_map['weekday'] == day + 1])\n",
      "/tmp/ipykernel_8773/2280881171.py:7: UserWarning: Boolean Series key will be reindexed to match DataFrame index.\n",
      "  activity[day][week] += len(data_for_map[data_for_map['week'] == week][data_for_map['weekday'] == day + 1])\n",
      "/tmp/ipykernel_8773/2280881171.py:7: UserWarning: Boolean Series key will be reindexed to match DataFrame index.\n",
      "  activity[day][week] += len(data_for_map[data_for_map['week'] == week][data_for_map['weekday'] == day + 1])\n",
      "/tmp/ipykernel_8773/2280881171.py:7: UserWarning: Boolean Series key will be reindexed to match DataFrame index.\n",
      "  activity[day][week] += len(data_for_map[data_for_map['week'] == week][data_for_map['weekday'] == day + 1])\n",
      "/tmp/ipykernel_8773/2280881171.py:7: UserWarning: Boolean Series key will be reindexed to match DataFrame index.\n",
      "  activity[day][week] += len(data_for_map[data_for_map['week'] == week][data_for_map['weekday'] == day + 1])\n",
      "/tmp/ipykernel_8773/2280881171.py:7: UserWarning: Boolean Series key will be reindexed to match DataFrame index.\n",
      "  activity[day][week] += len(data_for_map[data_for_map['week'] == week][data_for_map['weekday'] == day + 1])\n",
      "/tmp/ipykernel_8773/2280881171.py:7: UserWarning: Boolean Series key will be reindexed to match DataFrame index.\n",
      "  activity[day][week] += len(data_for_map[data_for_map['week'] == week][data_for_map['weekday'] == day + 1])\n",
      "/tmp/ipykernel_8773/2280881171.py:7: UserWarning: Boolean Series key will be reindexed to match DataFrame index.\n",
      "  activity[day][week] += len(data_for_map[data_for_map['week'] == week][data_for_map['weekday'] == day + 1])\n",
      "/tmp/ipykernel_8773/2280881171.py:7: UserWarning: Boolean Series key will be reindexed to match DataFrame index.\n",
      "  activity[day][week] += len(data_for_map[data_for_map['week'] == week][data_for_map['weekday'] == day + 1])\n",
      "/tmp/ipykernel_8773/2280881171.py:7: UserWarning: Boolean Series key will be reindexed to match DataFrame index.\n",
      "  activity[day][week] += len(data_for_map[data_for_map['week'] == week][data_for_map['weekday'] == day + 1])\n",
      "/tmp/ipykernel_8773/2280881171.py:7: UserWarning: Boolean Series key will be reindexed to match DataFrame index.\n",
      "  activity[day][week] += len(data_for_map[data_for_map['week'] == week][data_for_map['weekday'] == day + 1])\n",
      "/tmp/ipykernel_8773/2280881171.py:7: UserWarning: Boolean Series key will be reindexed to match DataFrame index.\n",
      "  activity[day][week] += len(data_for_map[data_for_map['week'] == week][data_for_map['weekday'] == day + 1])\n",
      "/tmp/ipykernel_8773/2280881171.py:7: UserWarning: Boolean Series key will be reindexed to match DataFrame index.\n",
      "  activity[day][week] += len(data_for_map[data_for_map['week'] == week][data_for_map['weekday'] == day + 1])\n",
      "/tmp/ipykernel_8773/2280881171.py:7: UserWarning: Boolean Series key will be reindexed to match DataFrame index.\n",
      "  activity[day][week] += len(data_for_map[data_for_map['week'] == week][data_for_map['weekday'] == day + 1])\n",
      "/tmp/ipykernel_8773/2280881171.py:7: UserWarning: Boolean Series key will be reindexed to match DataFrame index.\n",
      "  activity[day][week] += len(data_for_map[data_for_map['week'] == week][data_for_map['weekday'] == day + 1])\n",
      "/tmp/ipykernel_8773/2280881171.py:7: UserWarning: Boolean Series key will be reindexed to match DataFrame index.\n",
      "  activity[day][week] += len(data_for_map[data_for_map['week'] == week][data_for_map['weekday'] == day + 1])\n",
      "/tmp/ipykernel_8773/2280881171.py:7: UserWarning: Boolean Series key will be reindexed to match DataFrame index.\n",
      "  activity[day][week] += len(data_for_map[data_for_map['week'] == week][data_for_map['weekday'] == day + 1])\n",
      "/tmp/ipykernel_8773/2280881171.py:7: UserWarning: Boolean Series key will be reindexed to match DataFrame index.\n",
      "  activity[day][week] += len(data_for_map[data_for_map['week'] == week][data_for_map['weekday'] == day + 1])\n",
      "/tmp/ipykernel_8773/2280881171.py:7: UserWarning: Boolean Series key will be reindexed to match DataFrame index.\n",
      "  activity[day][week] += len(data_for_map[data_for_map['week'] == week][data_for_map['weekday'] == day + 1])\n",
      "/tmp/ipykernel_8773/2280881171.py:7: UserWarning: Boolean Series key will be reindexed to match DataFrame index.\n",
      "  activity[day][week] += len(data_for_map[data_for_map['week'] == week][data_for_map['weekday'] == day + 1])\n",
      "/tmp/ipykernel_8773/2280881171.py:7: UserWarning: Boolean Series key will be reindexed to match DataFrame index.\n",
      "  activity[day][week] += len(data_for_map[data_for_map['week'] == week][data_for_map['weekday'] == day + 1])\n",
      "/tmp/ipykernel_8773/2280881171.py:7: UserWarning: Boolean Series key will be reindexed to match DataFrame index.\n",
      "  activity[day][week] += len(data_for_map[data_for_map['week'] == week][data_for_map['weekday'] == day + 1])\n",
      "/tmp/ipykernel_8773/2280881171.py:7: UserWarning: Boolean Series key will be reindexed to match DataFrame index.\n",
      "  activity[day][week] += len(data_for_map[data_for_map['week'] == week][data_for_map['weekday'] == day + 1])\n",
      "/tmp/ipykernel_8773/2280881171.py:7: UserWarning: Boolean Series key will be reindexed to match DataFrame index.\n",
      "  activity[day][week] += len(data_for_map[data_for_map['week'] == week][data_for_map['weekday'] == day + 1])\n",
      "/tmp/ipykernel_8773/2280881171.py:7: UserWarning: Boolean Series key will be reindexed to match DataFrame index.\n",
      "  activity[day][week] += len(data_for_map[data_for_map['week'] == week][data_for_map['weekday'] == day + 1])\n",
      "/tmp/ipykernel_8773/2280881171.py:7: UserWarning: Boolean Series key will be reindexed to match DataFrame index.\n",
      "  activity[day][week] += len(data_for_map[data_for_map['week'] == week][data_for_map['weekday'] == day + 1])\n",
      "/tmp/ipykernel_8773/2280881171.py:7: UserWarning: Boolean Series key will be reindexed to match DataFrame index.\n",
      "  activity[day][week] += len(data_for_map[data_for_map['week'] == week][data_for_map['weekday'] == day + 1])\n",
      "/tmp/ipykernel_8773/2280881171.py:7: UserWarning: Boolean Series key will be reindexed to match DataFrame index.\n",
      "  activity[day][week] += len(data_for_map[data_for_map['week'] == week][data_for_map['weekday'] == day + 1])\n",
      "/tmp/ipykernel_8773/2280881171.py:7: UserWarning: Boolean Series key will be reindexed to match DataFrame index.\n",
      "  activity[day][week] += len(data_for_map[data_for_map['week'] == week][data_for_map['weekday'] == day + 1])\n",
      "/tmp/ipykernel_8773/2280881171.py:7: UserWarning: Boolean Series key will be reindexed to match DataFrame index.\n",
      "  activity[day][week] += len(data_for_map[data_for_map['week'] == week][data_for_map['weekday'] == day + 1])\n",
      "/tmp/ipykernel_8773/2280881171.py:7: UserWarning: Boolean Series key will be reindexed to match DataFrame index.\n",
      "  activity[day][week] += len(data_for_map[data_for_map['week'] == week][data_for_map['weekday'] == day + 1])\n",
      "/tmp/ipykernel_8773/2280881171.py:7: UserWarning: Boolean Series key will be reindexed to match DataFrame index.\n",
      "  activity[day][week] += len(data_for_map[data_for_map['week'] == week][data_for_map['weekday'] == day + 1])\n",
      "/tmp/ipykernel_8773/2280881171.py:7: UserWarning: Boolean Series key will be reindexed to match DataFrame index.\n",
      "  activity[day][week] += len(data_for_map[data_for_map['week'] == week][data_for_map['weekday'] == day + 1])\n",
      "/tmp/ipykernel_8773/2280881171.py:7: UserWarning: Boolean Series key will be reindexed to match DataFrame index.\n",
      "  activity[day][week] += len(data_for_map[data_for_map['week'] == week][data_for_map['weekday'] == day + 1])\n",
      "/tmp/ipykernel_8773/2280881171.py:7: UserWarning: Boolean Series key will be reindexed to match DataFrame index.\n",
      "  activity[day][week] += len(data_for_map[data_for_map['week'] == week][data_for_map['weekday'] == day + 1])\n",
      "/tmp/ipykernel_8773/2280881171.py:7: UserWarning: Boolean Series key will be reindexed to match DataFrame index.\n",
      "  activity[day][week] += len(data_for_map[data_for_map['week'] == week][data_for_map['weekday'] == day + 1])\n",
      "/tmp/ipykernel_8773/2280881171.py:7: UserWarning: Boolean Series key will be reindexed to match DataFrame index.\n",
      "  activity[day][week] += len(data_for_map[data_for_map['week'] == week][data_for_map['weekday'] == day + 1])\n",
      "/tmp/ipykernel_8773/2280881171.py:7: UserWarning: Boolean Series key will be reindexed to match DataFrame index.\n",
      "  activity[day][week] += len(data_for_map[data_for_map['week'] == week][data_for_map['weekday'] == day + 1])\n",
      "/tmp/ipykernel_8773/2280881171.py:7: UserWarning: Boolean Series key will be reindexed to match DataFrame index.\n",
      "  activity[day][week] += len(data_for_map[data_for_map['week'] == week][data_for_map['weekday'] == day + 1])\n",
      "/tmp/ipykernel_8773/2280881171.py:7: UserWarning: Boolean Series key will be reindexed to match DataFrame index.\n",
      "  activity[day][week] += len(data_for_map[data_for_map['week'] == week][data_for_map['weekday'] == day + 1])\n",
      "/tmp/ipykernel_8773/2280881171.py:7: UserWarning: Boolean Series key will be reindexed to match DataFrame index.\n",
      "  activity[day][week] += len(data_for_map[data_for_map['week'] == week][data_for_map['weekday'] == day + 1])\n",
      "/tmp/ipykernel_8773/2280881171.py:7: UserWarning: Boolean Series key will be reindexed to match DataFrame index.\n",
      "  activity[day][week] += len(data_for_map[data_for_map['week'] == week][data_for_map['weekday'] == day + 1])\n",
      "/tmp/ipykernel_8773/2280881171.py:7: UserWarning: Boolean Series key will be reindexed to match DataFrame index.\n",
      "  activity[day][week] += len(data_for_map[data_for_map['week'] == week][data_for_map['weekday'] == day + 1])\n",
      "/tmp/ipykernel_8773/2280881171.py:7: UserWarning: Boolean Series key will be reindexed to match DataFrame index.\n",
      "  activity[day][week] += len(data_for_map[data_for_map['week'] == week][data_for_map['weekday'] == day + 1])\n",
      "/tmp/ipykernel_8773/2280881171.py:7: UserWarning: Boolean Series key will be reindexed to match DataFrame index.\n",
      "  activity[day][week] += len(data_for_map[data_for_map['week'] == week][data_for_map['weekday'] == day + 1])\n",
      "/tmp/ipykernel_8773/2280881171.py:7: UserWarning: Boolean Series key will be reindexed to match DataFrame index.\n",
      "  activity[day][week] += len(data_for_map[data_for_map['week'] == week][data_for_map['weekday'] == day + 1])\n",
      "/tmp/ipykernel_8773/2280881171.py:7: UserWarning: Boolean Series key will be reindexed to match DataFrame index.\n",
      "  activity[day][week] += len(data_for_map[data_for_map['week'] == week][data_for_map['weekday'] == day + 1])\n",
      "/tmp/ipykernel_8773/2280881171.py:7: UserWarning: Boolean Series key will be reindexed to match DataFrame index.\n",
      "  activity[day][week] += len(data_for_map[data_for_map['week'] == week][data_for_map['weekday'] == day + 1])\n",
      "/tmp/ipykernel_8773/2280881171.py:7: UserWarning: Boolean Series key will be reindexed to match DataFrame index.\n",
      "  activity[day][week] += len(data_for_map[data_for_map['week'] == week][data_for_map['weekday'] == day + 1])\n",
      "/tmp/ipykernel_8773/2280881171.py:7: UserWarning: Boolean Series key will be reindexed to match DataFrame index.\n",
      "  activity[day][week] += len(data_for_map[data_for_map['week'] == week][data_for_map['weekday'] == day + 1])\n",
      "/tmp/ipykernel_8773/2280881171.py:7: UserWarning: Boolean Series key will be reindexed to match DataFrame index.\n",
      "  activity[day][week] += len(data_for_map[data_for_map['week'] == week][data_for_map['weekday'] == day + 1])\n",
      "/tmp/ipykernel_8773/2280881171.py:7: UserWarning: Boolean Series key will be reindexed to match DataFrame index.\n",
      "  activity[day][week] += len(data_for_map[data_for_map['week'] == week][data_for_map['weekday'] == day + 1])\n",
      "/tmp/ipykernel_8773/2280881171.py:7: UserWarning: Boolean Series key will be reindexed to match DataFrame index.\n",
      "  activity[day][week] += len(data_for_map[data_for_map['week'] == week][data_for_map['weekday'] == day + 1])\n",
      "/tmp/ipykernel_8773/2280881171.py:7: UserWarning: Boolean Series key will be reindexed to match DataFrame index.\n",
      "  activity[day][week] += len(data_for_map[data_for_map['week'] == week][data_for_map['weekday'] == day + 1])\n",
      "/tmp/ipykernel_8773/2280881171.py:7: UserWarning: Boolean Series key will be reindexed to match DataFrame index.\n",
      "  activity[day][week] += len(data_for_map[data_for_map['week'] == week][data_for_map['weekday'] == day + 1])\n",
      "/tmp/ipykernel_8773/2280881171.py:7: UserWarning: Boolean Series key will be reindexed to match DataFrame index.\n",
      "  activity[day][week] += len(data_for_map[data_for_map['week'] == week][data_for_map['weekday'] == day + 1])\n",
      "/tmp/ipykernel_8773/2280881171.py:7: UserWarning: Boolean Series key will be reindexed to match DataFrame index.\n",
      "  activity[day][week] += len(data_for_map[data_for_map['week'] == week][data_for_map['weekday'] == day + 1])\n",
      "/tmp/ipykernel_8773/2280881171.py:7: UserWarning: Boolean Series key will be reindexed to match DataFrame index.\n",
      "  activity[day][week] += len(data_for_map[data_for_map['week'] == week][data_for_map['weekday'] == day + 1])\n",
      "/tmp/ipykernel_8773/2280881171.py:7: UserWarning: Boolean Series key will be reindexed to match DataFrame index.\n",
      "  activity[day][week] += len(data_for_map[data_for_map['week'] == week][data_for_map['weekday'] == day + 1])\n",
      "/tmp/ipykernel_8773/2280881171.py:7: UserWarning: Boolean Series key will be reindexed to match DataFrame index.\n",
      "  activity[day][week] += len(data_for_map[data_for_map['week'] == week][data_for_map['weekday'] == day + 1])\n",
      "/tmp/ipykernel_8773/2280881171.py:7: UserWarning: Boolean Series key will be reindexed to match DataFrame index.\n",
      "  activity[day][week] += len(data_for_map[data_for_map['week'] == week][data_for_map['weekday'] == day + 1])\n",
      "/tmp/ipykernel_8773/2280881171.py:7: UserWarning: Boolean Series key will be reindexed to match DataFrame index.\n",
      "  activity[day][week] += len(data_for_map[data_for_map['week'] == week][data_for_map['weekday'] == day + 1])\n",
      "/tmp/ipykernel_8773/2280881171.py:7: UserWarning: Boolean Series key will be reindexed to match DataFrame index.\n",
      "  activity[day][week] += len(data_for_map[data_for_map['week'] == week][data_for_map['weekday'] == day + 1])\n",
      "/tmp/ipykernel_8773/2280881171.py:7: UserWarning: Boolean Series key will be reindexed to match DataFrame index.\n",
      "  activity[day][week] += len(data_for_map[data_for_map['week'] == week][data_for_map['weekday'] == day + 1])\n",
      "/tmp/ipykernel_8773/2280881171.py:7: UserWarning: Boolean Series key will be reindexed to match DataFrame index.\n",
      "  activity[day][week] += len(data_for_map[data_for_map['week'] == week][data_for_map['weekday'] == day + 1])\n",
      "/tmp/ipykernel_8773/2280881171.py:7: UserWarning: Boolean Series key will be reindexed to match DataFrame index.\n",
      "  activity[day][week] += len(data_for_map[data_for_map['week'] == week][data_for_map['weekday'] == day + 1])\n",
      "/tmp/ipykernel_8773/2280881171.py:7: UserWarning: Boolean Series key will be reindexed to match DataFrame index.\n",
      "  activity[day][week] += len(data_for_map[data_for_map['week'] == week][data_for_map['weekday'] == day + 1])\n",
      "/tmp/ipykernel_8773/2280881171.py:7: UserWarning: Boolean Series key will be reindexed to match DataFrame index.\n",
      "  activity[day][week] += len(data_for_map[data_for_map['week'] == week][data_for_map['weekday'] == day + 1])\n",
      "/tmp/ipykernel_8773/2280881171.py:7: UserWarning: Boolean Series key will be reindexed to match DataFrame index.\n",
      "  activity[day][week] += len(data_for_map[data_for_map['week'] == week][data_for_map['weekday'] == day + 1])\n",
      "/tmp/ipykernel_8773/2280881171.py:7: UserWarning: Boolean Series key will be reindexed to match DataFrame index.\n",
      "  activity[day][week] += len(data_for_map[data_for_map['week'] == week][data_for_map['weekday'] == day + 1])\n",
      "/tmp/ipykernel_8773/2280881171.py:7: UserWarning: Boolean Series key will be reindexed to match DataFrame index.\n",
      "  activity[day][week] += len(data_for_map[data_for_map['week'] == week][data_for_map['weekday'] == day + 1])\n",
      "/tmp/ipykernel_8773/2280881171.py:7: UserWarning: Boolean Series key will be reindexed to match DataFrame index.\n",
      "  activity[day][week] += len(data_for_map[data_for_map['week'] == week][data_for_map['weekday'] == day + 1])\n",
      "/tmp/ipykernel_8773/2280881171.py:7: UserWarning: Boolean Series key will be reindexed to match DataFrame index.\n",
      "  activity[day][week] += len(data_for_map[data_for_map['week'] == week][data_for_map['weekday'] == day + 1])\n",
      "/tmp/ipykernel_8773/2280881171.py:7: UserWarning: Boolean Series key will be reindexed to match DataFrame index.\n",
      "  activity[day][week] += len(data_for_map[data_for_map['week'] == week][data_for_map['weekday'] == day + 1])\n",
      "/tmp/ipykernel_8773/2280881171.py:7: UserWarning: Boolean Series key will be reindexed to match DataFrame index.\n",
      "  activity[day][week] += len(data_for_map[data_for_map['week'] == week][data_for_map['weekday'] == day + 1])\n",
      "/tmp/ipykernel_8773/2280881171.py:7: UserWarning: Boolean Series key will be reindexed to match DataFrame index.\n",
      "  activity[day][week] += len(data_for_map[data_for_map['week'] == week][data_for_map['weekday'] == day + 1])\n",
      "/tmp/ipykernel_8773/2280881171.py:7: UserWarning: Boolean Series key will be reindexed to match DataFrame index.\n",
      "  activity[day][week] += len(data_for_map[data_for_map['week'] == week][data_for_map['weekday'] == day + 1])\n",
      "/tmp/ipykernel_8773/2280881171.py:7: UserWarning: Boolean Series key will be reindexed to match DataFrame index.\n",
      "  activity[day][week] += len(data_for_map[data_for_map['week'] == week][data_for_map['weekday'] == day + 1])\n",
      "/tmp/ipykernel_8773/2280881171.py:7: UserWarning: Boolean Series key will be reindexed to match DataFrame index.\n",
      "  activity[day][week] += len(data_for_map[data_for_map['week'] == week][data_for_map['weekday'] == day + 1])\n",
      "/tmp/ipykernel_8773/2280881171.py:7: UserWarning: Boolean Series key will be reindexed to match DataFrame index.\n",
      "  activity[day][week] += len(data_for_map[data_for_map['week'] == week][data_for_map['weekday'] == day + 1])\n",
      "/tmp/ipykernel_8773/2280881171.py:7: UserWarning: Boolean Series key will be reindexed to match DataFrame index.\n",
      "  activity[day][week] += len(data_for_map[data_for_map['week'] == week][data_for_map['weekday'] == day + 1])\n",
      "/tmp/ipykernel_8773/2280881171.py:7: UserWarning: Boolean Series key will be reindexed to match DataFrame index.\n",
      "  activity[day][week] += len(data_for_map[data_for_map['week'] == week][data_for_map['weekday'] == day + 1])\n",
      "/tmp/ipykernel_8773/2280881171.py:7: UserWarning: Boolean Series key will be reindexed to match DataFrame index.\n",
      "  activity[day][week] += len(data_for_map[data_for_map['week'] == week][data_for_map['weekday'] == day + 1])\n",
      "/tmp/ipykernel_8773/2280881171.py:7: UserWarning: Boolean Series key will be reindexed to match DataFrame index.\n",
      "  activity[day][week] += len(data_for_map[data_for_map['week'] == week][data_for_map['weekday'] == day + 1])\n",
      "/tmp/ipykernel_8773/2280881171.py:7: UserWarning: Boolean Series key will be reindexed to match DataFrame index.\n",
      "  activity[day][week] += len(data_for_map[data_for_map['week'] == week][data_for_map['weekday'] == day + 1])\n",
      "/tmp/ipykernel_8773/2280881171.py:7: UserWarning: Boolean Series key will be reindexed to match DataFrame index.\n",
      "  activity[day][week] += len(data_for_map[data_for_map['week'] == week][data_for_map['weekday'] == day + 1])\n",
      "/tmp/ipykernel_8773/2280881171.py:7: UserWarning: Boolean Series key will be reindexed to match DataFrame index.\n",
      "  activity[day][week] += len(data_for_map[data_for_map['week'] == week][data_for_map['weekday'] == day + 1])\n",
      "/tmp/ipykernel_8773/2280881171.py:7: UserWarning: Boolean Series key will be reindexed to match DataFrame index.\n",
      "  activity[day][week] += len(data_for_map[data_for_map['week'] == week][data_for_map['weekday'] == day + 1])\n",
      "/tmp/ipykernel_8773/2280881171.py:7: UserWarning: Boolean Series key will be reindexed to match DataFrame index.\n",
      "  activity[day][week] += len(data_for_map[data_for_map['week'] == week][data_for_map['weekday'] == day + 1])\n",
      "/tmp/ipykernel_8773/2280881171.py:7: UserWarning: Boolean Series key will be reindexed to match DataFrame index.\n",
      "  activity[day][week] += len(data_for_map[data_for_map['week'] == week][data_for_map['weekday'] == day + 1])\n",
      "/tmp/ipykernel_8773/2280881171.py:7: UserWarning: Boolean Series key will be reindexed to match DataFrame index.\n",
      "  activity[day][week] += len(data_for_map[data_for_map['week'] == week][data_for_map['weekday'] == day + 1])\n",
      "/tmp/ipykernel_8773/2280881171.py:7: UserWarning: Boolean Series key will be reindexed to match DataFrame index.\n",
      "  activity[day][week] += len(data_for_map[data_for_map['week'] == week][data_for_map['weekday'] == day + 1])\n",
      "/tmp/ipykernel_8773/2280881171.py:7: UserWarning: Boolean Series key will be reindexed to match DataFrame index.\n",
      "  activity[day][week] += len(data_for_map[data_for_map['week'] == week][data_for_map['weekday'] == day + 1])\n",
      "/tmp/ipykernel_8773/2280881171.py:7: UserWarning: Boolean Series key will be reindexed to match DataFrame index.\n",
      "  activity[day][week] += len(data_for_map[data_for_map['week'] == week][data_for_map['weekday'] == day + 1])\n",
      "/tmp/ipykernel_8773/2280881171.py:7: UserWarning: Boolean Series key will be reindexed to match DataFrame index.\n",
      "  activity[day][week] += len(data_for_map[data_for_map['week'] == week][data_for_map['weekday'] == day + 1])\n",
      "/tmp/ipykernel_8773/2280881171.py:7: UserWarning: Boolean Series key will be reindexed to match DataFrame index.\n",
      "  activity[day][week] += len(data_for_map[data_for_map['week'] == week][data_for_map['weekday'] == day + 1])\n",
      "/tmp/ipykernel_8773/2280881171.py:7: UserWarning: Boolean Series key will be reindexed to match DataFrame index.\n",
      "  activity[day][week] += len(data_for_map[data_for_map['week'] == week][data_for_map['weekday'] == day + 1])\n",
      "/tmp/ipykernel_8773/2280881171.py:7: UserWarning: Boolean Series key will be reindexed to match DataFrame index.\n",
      "  activity[day][week] += len(data_for_map[data_for_map['week'] == week][data_for_map['weekday'] == day + 1])\n",
      "/tmp/ipykernel_8773/2280881171.py:7: UserWarning: Boolean Series key will be reindexed to match DataFrame index.\n",
      "  activity[day][week] += len(data_for_map[data_for_map['week'] == week][data_for_map['weekday'] == day + 1])\n",
      "/tmp/ipykernel_8773/2280881171.py:7: UserWarning: Boolean Series key will be reindexed to match DataFrame index.\n",
      "  activity[day][week] += len(data_for_map[data_for_map['week'] == week][data_for_map['weekday'] == day + 1])\n",
      "/tmp/ipykernel_8773/2280881171.py:7: UserWarning: Boolean Series key will be reindexed to match DataFrame index.\n",
      "  activity[day][week] += len(data_for_map[data_for_map['week'] == week][data_for_map['weekday'] == day + 1])\n",
      "/tmp/ipykernel_8773/2280881171.py:7: UserWarning: Boolean Series key will be reindexed to match DataFrame index.\n",
      "  activity[day][week] += len(data_for_map[data_for_map['week'] == week][data_for_map['weekday'] == day + 1])\n",
      "/tmp/ipykernel_8773/2280881171.py:7: UserWarning: Boolean Series key will be reindexed to match DataFrame index.\n",
      "  activity[day][week] += len(data_for_map[data_for_map['week'] == week][data_for_map['weekday'] == day + 1])\n",
      "/tmp/ipykernel_8773/2280881171.py:7: UserWarning: Boolean Series key will be reindexed to match DataFrame index.\n",
      "  activity[day][week] += len(data_for_map[data_for_map['week'] == week][data_for_map['weekday'] == day + 1])\n",
      "/tmp/ipykernel_8773/2280881171.py:7: UserWarning: Boolean Series key will be reindexed to match DataFrame index.\n",
      "  activity[day][week] += len(data_for_map[data_for_map['week'] == week][data_for_map['weekday'] == day + 1])\n",
      "/tmp/ipykernel_8773/2280881171.py:7: UserWarning: Boolean Series key will be reindexed to match DataFrame index.\n",
      "  activity[day][week] += len(data_for_map[data_for_map['week'] == week][data_for_map['weekday'] == day + 1])\n",
      "/tmp/ipykernel_8773/2280881171.py:7: UserWarning: Boolean Series key will be reindexed to match DataFrame index.\n",
      "  activity[day][week] += len(data_for_map[data_for_map['week'] == week][data_for_map['weekday'] == day + 1])\n",
      "/tmp/ipykernel_8773/2280881171.py:7: UserWarning: Boolean Series key will be reindexed to match DataFrame index.\n",
      "  activity[day][week] += len(data_for_map[data_for_map['week'] == week][data_for_map['weekday'] == day + 1])\n",
      "/tmp/ipykernel_8773/2280881171.py:7: UserWarning: Boolean Series key will be reindexed to match DataFrame index.\n",
      "  activity[day][week] += len(data_for_map[data_for_map['week'] == week][data_for_map['weekday'] == day + 1])\n",
      "/tmp/ipykernel_8773/2280881171.py:7: UserWarning: Boolean Series key will be reindexed to match DataFrame index.\n",
      "  activity[day][week] += len(data_for_map[data_for_map['week'] == week][data_for_map['weekday'] == day + 1])\n",
      "/tmp/ipykernel_8773/2280881171.py:7: UserWarning: Boolean Series key will be reindexed to match DataFrame index.\n",
      "  activity[day][week] += len(data_for_map[data_for_map['week'] == week][data_for_map['weekday'] == day + 1])\n",
      "/tmp/ipykernel_8773/2280881171.py:7: UserWarning: Boolean Series key will be reindexed to match DataFrame index.\n",
      "  activity[day][week] += len(data_for_map[data_for_map['week'] == week][data_for_map['weekday'] == day + 1])\n",
      "/tmp/ipykernel_8773/2280881171.py:14: MatplotlibDeprecationWarning: The get_cmap function was deprecated in Matplotlib 3.7 and will be removed two minor releases later. Use ``matplotlib.colormaps[name]`` or ``matplotlib.colormaps.get_cmap(obj)`` instead.\n",
      "  orig_map     = plt.cm.get_cmap('Grays')\n"
     ]
    },
    {
     "data": {
      "text/plain": [
       "Text(0.5, 0, 'Номер недели')"
      ]
     },
     "execution_count": 46,
     "metadata": {},
     "output_type": "execute_result"
    },
    {
     "data": {
      "image/png": "[encoded data removed]",
      "text/plain": [
       "<Figure size 1008x792 with 1 Axes>"
      ]
     },
     "metadata": {},
     "output_type": "display_data"
    }
   ],
   "source": [
    "data_for_map = sc_data[sc_data['year'] == 2024]\n",
    "\n",
    "activity = np.zeros((7, 53))\n",
    "\n",
    "for day in np.arange(7):\n",
    "    for week in np.arange(53):\n",
    "        activity[day][week] += len(data_for_map[data_for_map['week'] == week][data_for_map['weekday'] == day + 1])\n",
    "\n",
    "\n",
    "fig, ax = plt.subplots(figsize=(14, 11))\n",
    "ax.set_aspect(\"equal\")\n",
    "\n",
    "plt.style.use('dark_background')\n",
    "orig_map     = plt.cm.get_cmap('Grays') \n",
    "reversed_map = orig_map.reversed() \n",
    "\n",
    "plt.title('Карта активности 2024', fontsize=24)\n",
    "plt.pcolormesh(activity, cmap=reversed_map, edgecolor=\"w\")\n",
    "#plt.xlim(0, df2.shape[1])\n",
    "plt.xticks(np.arange(0, 53 ,5), fontsize=16)\n",
    "plt.yticks(np.arange(0, 7, 2), fontsize=16)\n",
    "plt.ylabel('Номер дня', fontsize=20)\n",
    "plt.xlabel('Номер недели', fontsize=20)"
   ]
  },
  {
   "attachments": {},
   "cell_type": "markdown",
   "metadata": {},
   "source": [
    "### Chart of activities in respect to year"
   ]
  },
  {
   "cell_type": "code",
   "execution_count": 143,
   "metadata": {},
   "outputs": [
    {
     "data": {
      "text/plain": [
       "{2023: 446, 2024: 369, 2022: 334, 2021: 11}"
      ]
     },
     "execution_count": 143,
     "metadata": {},
     "output_type": "execute_result"
    }
   ],
   "source": [
    "sc_data['year'].value_counts().to_dict()"
   ]
  },
  {
   "cell_type": "code",
   "execution_count": 157,
   "metadata": {},
   "outputs": [
    {
     "name": "stderr",
     "output_type": "stream",
     "text": [
      "/tmp/ipykernel_12629/1917424373.py:1: UserWarning: Boolean Series key will be reindexed to match DataFrame index.\n",
      "  369 / len(sc_data[sc_data['year'] == 2022][sc_data['week'] <= 28])\n"
     ]
    },
    {
     "data": {
      "text/plain": [
       "2.1705882352941175"
      ]
     },
     "execution_count": 157,
     "metadata": {},
     "output_type": "execute_result"
    }
   ],
   "source": [
    "369 / len(sc_data[sc_data['year'] == 2022][sc_data['week'] <= 28])"
   ]
  },
  {
   "cell_type": "code",
   "execution_count": 218,
   "metadata": {},
   "outputs": [
    {
     "name": "stderr",
     "output_type": "stream",
     "text": [
      "/tmp/ipykernel_12629/1295607661.py:15: SettingWithCopyWarning: \n",
      "A value is trying to be set on a copy of a slice from a DataFrame.\n",
      "Try using .loc[row_indexer,col_indexer] = value instead\n",
      "\n",
      "See the caveats in the documentation: https://pandas.pydata.org/pandas-docs/stable/user_guide/indexing.html#returning-a-view-versus-a-copy\n",
      "  pa_data['year'] = pa_data.EDITION_TIME.apply(lambda x: datetime.strptime(x, '%Y-%m-%d-%H:%M:%S').isocalendar().year)\n"
     ]
    },
    {
     "data": {
      "text/plain": [
       "Text(0.5, 0, 'Количество проектов')"
      ]
     },
     "execution_count": 218,
     "metadata": {},
     "output_type": "execute_result"
    },
    {
     "data": {
      "image/png": "[encoded data removed]",
      "text/plain": [
       "<Figure size 1440x504 with 2 Axes>"
      ]
     },
     "metadata": {},
     "output_type": "display_data"
    }
   ],
   "source": [
    "data_years = sc_data['year'].value_counts().to_dict()\n",
    "\n",
    "fig, ax = plt.subplots(1, 2, figsize=(20, 7))\n",
    "\n",
    "plt.rcParams.update({'font.size': 20})\n",
    "\n",
    "ax[0].barh(width=list(data_years.values()), y=list(data_years.keys()), color='white')\n",
    "ax[0].set_yticks([key for key in sorted(data_years.keys())])#, fontsize=20)\n",
    "ax[0].set_xticks(range(0, 451, 90))#, fontsize=20)\n",
    "ax[0].set_ylabel('Год', fontsize=24)\n",
    "ax[0].set_xlabel('Количество задач', fontsize=24)\n",
    "\n",
    "\n",
    "pa_data   = data[data['STATUS'] == 'Achieved Projects']\n",
    "pa_data['year'] = pa_data.EDITION_TIME.apply(lambda x: datetime.strptime(x, '%Y-%m-%d-%H:%M:%S').isocalendar().year)\n",
    "data_years = pa_data['year'].value_counts().to_dict()\n",
    "\n",
    "\n",
    "ax[1].barh(width=list(data_years.values()), y=list(data_years.keys()), color='white', )\n",
    "ax[1].set_yticks([key for key in sorted(data_years.keys())])#, fontsize=20)\n",
    "ax[1].set_xticks(range(0, 11, 2))#, fontsize=20)\n",
    "ax[1].set_ylabel('Год', fontsize=24)\n",
    "ax[1].set_xlabel('Количество проектов', fontsize=24)"
   ]
  },
  {
   "attachments": {},
   "cell_type": "markdown",
   "metadata": {},
   "source": [
    "# Bonus: a brain of cleared words of 2024"
   ]
  },
  {
   "cell_type": "code",
   "execution_count": 60,
   "metadata": {},
   "outputs": [],
   "source": [
    "text = sc_data[sc_data['year'] == 2024].NAME.astype(str)\n",
    "text = text.apply(lambda x: clear_punctuation(x))\n",
    "text = text.str.lower()\n",
    "text = ' '.join(text.to_list()).split()\n",
    "text = filter(text)"
   ]
  },
  {
   "cell_type": "code",
   "execution_count": 61,
   "metadata": {},
   "outputs": [],
   "source": [
    "mask = np.array(Image.open('brain.jpg'))\n",
    "wordcloud = WordCloud(mask=mask).generate(' '.join(normalize_words(filter_verbs(text))))"
   ]
  },
  {
   "cell_type": "code",
   "execution_count": 62,
   "metadata": {},
   "outputs": [
    {
     "data": {
      "text/plain": [
       "неделя               81\n",
       "билет                46\n",
       "лекция               44\n",
       "статья               42\n",
       "домашка              37\n",
       "                     ..\n",
       "мышка                 1\n",
       "фоллович              1\n",
       "kotor                 1\n",
       "работоспособность     1\n",
       "2012                  1\n",
       "Name: count, Length: 1188, dtype: int64"
      ]
     },
     "execution_count": 62,
     "metadata": {},
     "output_type": "execute_result"
    }
   ],
   "source": [
    "pd.Series(normalize_words(filter_verbs(text))).value_counts()"
   ]
  },
  {
   "cell_type": "code",
   "execution_count": 63,
   "metadata": {},
   "outputs": [
    {
     "data": {
      "image/png": "[encoded data removed]",
      "text/plain": [
       "<Figure size 720x504 with 1 Axes>"
      ]
     },
     "metadata": {},
     "output_type": "display_data"
    }
   ],
   "source": [
    "plt.figure(figsize=(10, 7))\n",
    "plt.imshow(wordcloud.recolor(color_func=grey_color_func, random_state=3),\n",
    "           interpolation=\"bilinear\")\n",
    "plt.axis(\"off\")\n",
    "plt.savefig('completed_filter.png')"
   ]
  }
 ],
 "metadata": {
  "kernelspec": {
   "display_name": "Python 3",
   "language": "python",
   "name": "python3"
  },
  "language_info": {
   "codemirror_mode": {
    "name": "ipython",
    "version": 3
   },
   "file_extension": ".py",
   "mimetype": "text/x-python",
   "name": "python",
   "nbconvert_exporter": "python",
   "pygments_lexer": "ipython3",
   "version": "3.10.12"
  },
  "orig_nbformat": 4
 },
 "nbformat": 4,
 "nbformat_minor": 2
}
