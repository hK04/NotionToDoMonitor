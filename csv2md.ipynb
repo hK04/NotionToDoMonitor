{
 "cells": [
  {
   "cell_type": "code",
   "execution_count": 106,
   "metadata": {},
   "outputs": [],
   "source": [
    "import pandas as pd"
   ]
  },
  {
   "cell_type": "code",
   "execution_count": 108,
   "metadata": {},
   "outputs": [
    {
     "data": {
      "text/html": [
       "<div>\n",
       "<style scoped>\n",
       "    .dataframe tbody tr th:only-of-type {\n",
       "        vertical-align: middle;\n",
       "    }\n",
       "\n",
       "    .dataframe tbody tr th {\n",
       "        vertical-align: top;\n",
       "    }\n",
       "\n",
       "    .dataframe thead th {\n",
       "        text-align: right;\n",
       "    }\n",
       "</style>\n",
       "<table border=\"1\" class=\"dataframe\">\n",
       "  <thead>\n",
       "    <tr style=\"text-align: right;\">\n",
       "      <th></th>\n",
       "      <th>Unnamed: 0</th>\n",
       "      <th>CREATION_TIME</th>\n",
       "      <th>EDITION_TIME</th>\n",
       "      <th>NAME</th>\n",
       "      <th>STATUS</th>\n",
       "      <th>TAG</th>\n",
       "      <th>DATE</th>\n",
       "      <th>CONTENT</th>\n",
       "    </tr>\n",
       "  </thead>\n",
       "  <tbody>\n",
       "    <tr>\n",
       "      <th>0</th>\n",
       "      <td>0</td>\n",
       "      <td>2024-08-30T16:28:00.000Z</td>\n",
       "      <td>2024-08-30T16:28:00.000Z</td>\n",
       "      <td>Используя разные вероятностые методики придума...</td>\n",
       "      <td>Top Priority</td>\n",
       "      <td>[]</td>\n",
       "      <td>NaN</td>\n",
       "      <td>NaN</td>\n",
       "    </tr>\n",
       "    <tr>\n",
       "      <th>1</th>\n",
       "      <td>1</td>\n",
       "      <td>2024-08-30T12:58:00.000Z</td>\n",
       "      <td>2024-08-30T13:44:00.000Z</td>\n",
       "      <td>перенести рабочий кринж</td>\n",
       "      <td>Succesfully accomplished</td>\n",
       "      <td>[]</td>\n",
       "      <td>NaN</td>\n",
       "      <td>NaN</td>\n",
       "    </tr>\n",
       "    <tr>\n",
       "      <th>2</th>\n",
       "      <td>2</td>\n",
       "      <td>2024-08-30T12:57:00.000Z</td>\n",
       "      <td>2024-08-30T12:57:00.000Z</td>\n",
       "      <td>прочитать статью</td>\n",
       "      <td>Top Priority</td>\n",
       "      <td>[]</td>\n",
       "      <td>NaN</td>\n",
       "      <td>NaN</td>\n",
       "    </tr>\n",
       "    <tr>\n",
       "      <th>3</th>\n",
       "      <td>3</td>\n",
       "      <td>2024-08-29T13:48:00.000Z</td>\n",
       "      <td>2024-08-29T13:48:00.000Z</td>\n",
       "      <td>Написать код для Obsidian конвертора</td>\n",
       "      <td>Top Priority</td>\n",
       "      <td>[]</td>\n",
       "      <td>NaN</td>\n",
       "      <td>NaN</td>\n",
       "    </tr>\n",
       "    <tr>\n",
       "      <th>4</th>\n",
       "      <td>4</td>\n",
       "      <td>2024-08-28T11:18:00.000Z</td>\n",
       "      <td>2024-08-28T11:19:00.000Z</td>\n",
       "      <td>Заботать укрепление иммунитета</td>\n",
       "      <td>Top Priority</td>\n",
       "      <td>[]</td>\n",
       "      <td>NaN</td>\n",
       "      <td>NaN</td>\n",
       "    </tr>\n",
       "  </tbody>\n",
       "</table>\n",
       "</div>"
      ],
      "text/plain": [
       "   Unnamed: 0             CREATION_TIME              EDITION_TIME  \\\n",
       "0           0  2024-08-30T16:28:00.000Z  2024-08-30T16:28:00.000Z   \n",
       "1           1  2024-08-30T12:58:00.000Z  2024-08-30T13:44:00.000Z   \n",
       "2           2  2024-08-30T12:57:00.000Z  2024-08-30T12:57:00.000Z   \n",
       "3           3  2024-08-29T13:48:00.000Z  2024-08-29T13:48:00.000Z   \n",
       "4           4  2024-08-28T11:18:00.000Z  2024-08-28T11:19:00.000Z   \n",
       "\n",
       "                                                NAME  \\\n",
       "0  Используя разные вероятностые методики придума...   \n",
       "1                            перенести рабочий кринж   \n",
       "2                                   прочитать статью   \n",
       "3               Написать код для Obsidian конвертора   \n",
       "4                    Заботать укрепление иммунитета    \n",
       "\n",
       "                     STATUS TAG DATE CONTENT  \n",
       "0              Top Priority  []  NaN     NaN  \n",
       "1  Succesfully accomplished  []  NaN     NaN  \n",
       "2              Top Priority  []  NaN     NaN  \n",
       "3              Top Priority  []  NaN     NaN  \n",
       "4              Top Priority  []  NaN     NaN  "
      ]
     },
     "execution_count": 108,
     "metadata": {},
     "output_type": "execute_result"
    }
   ],
   "source": [
    "csv = pd.read_csv('data.csv')\n",
    "csv.head()"
   ]
  },
  {
   "cell_type": "code",
   "execution_count": 110,
   "metadata": {},
   "outputs": [],
   "source": [
    "csv.NAME     = csv.NAME.astype(str)\n",
    "csv.CONTENT  = csv.CONTENT.fillna('')\n",
    "csv.CONTENT  = csv.CONTENT.astype(str)"
   ]
  },
  {
   "cell_type": "code",
   "execution_count": 111,
   "metadata": {},
   "outputs": [
    {
     "data": {
      "text/plain": [
       "['Top Priority',\n",
       " 'Succesfully accomplished',\n",
       " 'Goals',\n",
       " 'Second Priority (If there will be time for it)',\n",
       " 'Unaccomplished',\n",
       " 'Repetetive Tasks',\n",
       " 'It was a bad Idea',\n",
       " 'To do with Sussy',\n",
       " 'Contacts Network connections',\n",
       " 'Personal Development',\n",
       " 'Someday',\n",
       " 'Achieved Projects',\n",
       " 'Life beyond visible side',\n",
       " 'Projects Unachieved']"
      ]
     },
     "execution_count": 111,
     "metadata": {},
     "output_type": "execute_result"
    }
   ],
   "source": [
    "statuses = list(csv.STATUS.unique())[:-1]\n",
    "statuses"
   ]
  },
  {
   "cell_type": "code",
   "execution_count": 114,
   "metadata": {},
   "outputs": [],
   "source": [
    "kanban1 = \\\n",
    "\"\"\"\n",
    "---\n",
    "\n",
    "kanban-plugin: board\n",
    "\n",
    "---\n",
    "\n",
    "{0}\n",
    "\"\"\"\n",
    "\n",
    "\n",
    "kanban2 =\\\n",
    "r\"\"\"\n",
    "%% kanban:settings\n",
    "```\n",
    "{\"kanban-plugin\":\"board\",\"list-collapse\":[\n",
    "\"\"\"\n",
    "\n",
    "kanban3 =\\\n",
    "r\"\"\"],\"new-card-insertion-method\":\"prepend\"}\n",
    "```\n",
    "%%\n",
    "\"\"\""
   ]
  },
  {
   "cell_type": "code",
   "execution_count": 116,
   "metadata": {},
   "outputs": [],
   "source": [
    "formater = \\\n",
    "\"\"\"\n",
    "## {0}\n",
    "\n",
    "{1}\n",
    "\"\"\"\n",
    "finalMD = ''"
   ]
  },
  {
   "cell_type": "code",
   "execution_count": 117,
   "metadata": {},
   "outputs": [],
   "source": [
    "for stat in statuses:\n",
    "    tasks = ''\n",
    "    \n",
    "    dataslice = csv[csv['STATUS'] == stat]\n",
    "    names = dataslice.NAME.to_list()\n",
    "    contents = dataslice.CONTENT.to_list()\n",
    "    \n",
    "    for i in range(len(contents)):\n",
    "        tasks += \"- [ ] \" + names[i] + ' ' + contents[i] + '\\n'\n",
    "    finalMD += formater.format(stat, tasks)"
   ]
  },
  {
   "cell_type": "code",
   "execution_count": 120,
   "metadata": {},
   "outputs": [],
   "source": [
    "with open('kanban.md', 'w') as f:\n",
    "    f.write(kanban1.strip().format(finalMD) + kanban2 + ','.join(['false' for i in statuses]) + kanban3)\n",
    "    f.close()"
   ]
  }
 ],
 "metadata": {
  "kernelspec": {
   "display_name": "Python 3",
   "language": "python",
   "name": "python3"
  },
  "language_info": {
   "codemirror_mode": {
    "name": "ipython",
    "version": 3
   },
   "file_extension": ".py",
   "mimetype": "text/x-python",
   "name": "python",
   "nbconvert_exporter": "python",
   "pygments_lexer": "ipython3",
   "version": "3.10.12"
  }
 },
 "nbformat": 4,
 "nbformat_minor": 2
}
